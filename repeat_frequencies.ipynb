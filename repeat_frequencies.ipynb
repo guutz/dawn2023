{
 "cells": [
  {
   "cell_type": "code",
   "execution_count": 2,
   "metadata": {},
   "outputs": [],
   "source": [
    "import numpy as np\n",
    "import pandas as pd\n",
    "import glob"
   ]
  },
  {
   "cell_type": "code",
   "execution_count": 3,
   "metadata": {},
   "outputs": [],
   "source": [
    "files = glob.glob('data/tns_search_frbs/*.csv')\n",
    "df = pd.concat([pd.read_csv(f) for f in files], ignore_index=True)"
   ]
  },
  {
   "cell_type": "code",
   "execution_count": 8,
   "metadata": {},
   "outputs": [],
   "source": [
    "frbs = df[['Name', 'Repeater of Primary Burst', 'Discovery Date (UT)']]"
   ]
  },
  {
   "cell_type": "code",
   "execution_count": 9,
   "metadata": {},
   "outputs": [
    {
     "name": "stderr",
     "output_type": "stream",
     "text": [
      "/tmp/ipykernel_1332/3133475129.py:1: SettingWithCopyWarning: \n",
      "A value is trying to be set on a copy of a slice from a DataFrame.\n",
      "Try using .loc[row_indexer,col_indexer] = value instead\n",
      "\n",
      "See the caveats in the documentation: https://pandas.pydata.org/pandas-docs/stable/user_guide/indexing.html#returning-a-view-versus-a-copy\n",
      "  frbs['Discovery Date (UT)'] = pd.to_datetime(frbs['Discovery Date (UT)'])\n"
     ]
    }
   ],
   "source": [
    "frbs['Discovery Date (UT)'] = pd.to_datetime(frbs['Discovery Date (UT)'])"
   ]
  },
  {
   "cell_type": "code",
   "execution_count": 53,
   "metadata": {},
   "outputs": [],
   "source": [
    "repeaters = frbs[[not isinstance(i,float) for i in frbs['Repeater of Primary Burst'].values]].sort_values(by='Discovery Date (UT)').reset_index(drop=True)\n",
    "repeaters['Name'] = [i.replace(' ','') for i in repeaters['Name'].values]\n",
    "repeaters['Repeater of Primary Burst'] = ['FRB'+i for i in repeaters['Repeater of Primary Burst'].values]"
   ]
  },
  {
   "cell_type": "code",
   "execution_count": 75,
   "metadata": {},
   "outputs": [],
   "source": [
    "tns_repeaters = np.unique(repeaters['Repeater of Primary Burst'].values)\n",
    "chime_repeaters = np.array(['FRB20121102A', 'FRB20180814A', 'FRB20180908B', 'FRB20180909A',\n",
    "       'FRB20180910A', 'FRB20180916B', 'FRB20181017A', 'FRB20181030A',\n",
    "       'FRB20181119A', 'FRB20181128A', 'FRB20181201D', 'FRB20181226F',\n",
    "       'FRB20190110C', 'FRB20190113A', 'FRB20190116B', 'FRB20190117A',\n",
    "       'FRB20190127B', 'FRB20190208A', 'FRB20190209A', 'FRB20190210C',\n",
    "       'FRB20190212A', 'FRB20190213A', 'FRB20190222A', 'FRB20190226B',\n",
    "       'FRB20190303A', 'FRB20190303D', 'FRB20190328C', 'FRB20190417A',\n",
    "       'FRB20190430C', 'FRB20190604A', 'FRB20190609C', 'FRB20190804E',\n",
    "       'FRB20190812A', 'FRB20190905A', 'FRB20190915D', 'FRB20191013D',\n",
    "       'FRB20191105B', 'FRB20191106C', 'FRB20191114A', 'FRB20200118D',\n",
    "       'FRB20200127B', 'FRB20200202A', 'FRB20200223B', 'FRB20200320A',\n",
    "       'FRB20200420A', 'FRB20200508H', 'FRB20200619A', 'FRB20200809E',\n",
    "       'FRB20200828A', 'FRB20200913C', 'FRB20200926A', 'FRB20200929C',\n",
    "       'FRB20201114A', 'FRB20201130A', 'FRB20201221B', 'FRB20210323C'],\n",
    "      dtype=object)"
   ]
  },
  {
   "cell_type": "code",
   "execution_count": 81,
   "metadata": {},
   "outputs": [
    {
     "name": "stdout",
     "output_type": "stream",
     "text": [
      "['FRB20180908B' 'FRB20180909A' 'FRB20180910A' 'FRB20181201D'\n",
      " 'FRB20181226F' 'FRB20190110C' 'FRB20190113A' 'FRB20190116B'\n",
      " 'FRB20190127B' 'FRB20190210C' 'FRB20190226B' 'FRB20190303D'\n",
      " 'FRB20190328C' 'FRB20190430C' 'FRB20190609C' 'FRB20190804E'\n",
      " 'FRB20190812A' 'FRB20190905A' 'FRB20190915D' 'FRB20191013D'\n",
      " 'FRB20191105B' 'FRB20191106C' 'FRB20191114A' 'FRB20200118D'\n",
      " 'FRB20200127B' 'FRB20200202A' 'FRB20200223B' 'FRB20200320A'\n",
      " 'FRB20200420A' 'FRB20200508H' 'FRB20200619A' 'FRB20200809E'\n",
      " 'FRB20200828A' 'FRB20200913C' 'FRB20200926A' 'FRB20200929C'\n",
      " 'FRB20201114A' 'FRB20201130A' 'FRB20201221B' 'FRB20210323C']\n",
      "['FRB20180908A' 'FRB20190116A' 'FRB20190711A' 'FRB20190907A'\n",
      " 'FRB20200120E' 'FRB20201124A' 'FRB20220912A']\n"
     ]
    }
   ],
   "source": [
    "# Find the repeaters that are not in the TNS list\n",
    "print(np.setdiff1d(chime_repeaters, tns_repeaters))\n",
    "\n",
    "# Find the repeaters that are not in the CHIME list\n",
    "print(np.setdiff1d(tns_repeaters, chime_repeaters))"
   ]
  }
 ],
 "metadata": {
  "kernelspec": {
   "display_name": "umap",
   "language": "python",
   "name": "python3"
  },
  "language_info": {
   "codemirror_mode": {
    "name": "ipython",
    "version": 3
   },
   "file_extension": ".py",
   "mimetype": "text/x-python",
   "name": "python",
   "nbconvert_exporter": "python",
   "pygments_lexer": "ipython3",
   "version": "3.9.16"
  },
  "orig_nbformat": 4
 },
 "nbformat": 4,
 "nbformat_minor": 2
}
