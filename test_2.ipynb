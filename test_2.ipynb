{
 "cells": [
  {
   "cell_type": "code",
   "execution_count": 90,
   "metadata": {},
   "outputs": [
    {
     "data": {
      "text/html": [
       "<style>\n",
       "        .bk-notebook-logo {\n",
       "            display: block;\n",
       "            width: 20px;\n",
       "            height: 20px;\n",
       "            background-image: url(data:image/png;base64,iVBORw0KGgoAAAANSUhEUgAAABQAAAAUCAYAAACNiR0NAAAABHNCSVQICAgIfAhkiAAAAAlwSFlzAAALEgAACxIB0t1+/AAAABx0RVh0U29mdHdhcmUAQWRvYmUgRmlyZXdvcmtzIENTNui8sowAAAOkSURBVDiNjZRtaJVlGMd/1/08zzln5zjP1LWcU9N0NkN8m2CYjpgQYQXqSs0I84OLIC0hkEKoPtiH3gmKoiJDU7QpLgoLjLIQCpEsNJ1vqUOdO7ppbuec5+V+rj4ctwzd8IIbbi6u+8f1539dt3A78eXC7QizUF7gyV1fD1Yqg4JWz84yffhm0qkFqBogB9rM8tZdtwVsPUhWhGcFJngGeWrPzHm5oaMmkfEg1usvLFyc8jLRqDOMru7AyC8saQr7GG7f5fvDeH7Ej8CM66nIF+8yngt6HWaKh7k49Soy9nXurCi1o3qUbS3zWfrYeQDTB/Qj6kX6Ybhw4B+bOYoLKCC9H3Nu/leUTZ1JdRWkkn2ldcCamzrcf47KKXdAJllSlxAOkRgyHsGC/zRday5Qld9DyoM4/q/rUoy/CXh3jzOu3bHUVZeU+DEn8FInkPBFlu3+nW3Nw0mk6vCDiWg8CeJaxEwuHS3+z5RgY+YBR6V1Z1nxSOfoaPa4LASWxxdNp+VWTk7+4vzaou8v8PN+xo+KY2xsw6une2frhw05CTYOmQvsEhjhWjn0bmXPjpE1+kplmmkP3suftwTubK9Vq22qKmrBhpY4jvd5afdRA3wGjFAgcnTK2s4hY0/GPNIb0nErGMCRxWOOX64Z8RAC4oCXdklmEvcL8o0BfkNK4lUg9HTl+oPlQxdNo3Mg4Nv175e/1LDGzZen30MEjRUtmXSfiTVu1kK8W4txyV6BMKlbgk3lMwYCiusNy9fVfvvwMxv8Ynl6vxoByANLTWplvuj/nF9m2+PDtt1eiHPBr1oIfhCChQMBw6Aw0UulqTKZdfVvfG7VcfIqLG9bcldL/+pdWTLxLUy8Qq38heUIjh4XlzZxzQm19lLFlr8vdQ97rjZVOLf8nclzckbcD4wxXMidpX30sFd37Fv/GtwwhzhxGVAprjbg0gCAEeIgwCZyTV2Z1REEW8O4py0wsjeloKoMr6iCY6dP92H6Vw/oTyICIthibxjm/DfN9lVz8IqtqKYLUXfoKVMVQVVJOElGjrnnUt9T9wbgp8AyYKaGlqingHZU/uG2NTZSVqwHQTWkx9hxjkpWDaCg6Ckj5qebgBVbT3V3NNXMSiWSDdGV3hrtzla7J+duwPOToIg42ChPQOQjspnSlp1V+Gjdged7+8UN5CRAV7a5EdFNwCjEaBR27b3W890TE7g24NAP/mMDXRWrGoFPQI9ls/MWO2dWFAar/xcOIImbbpA3zgAAAABJRU5ErkJggg==);\n",
       "        }\n",
       "    </style>\n",
       "    <div>\n",
       "        <a href=\"https://bokeh.org\" target=\"_blank\" class=\"bk-notebook-logo\"></a>\n",
       "        <span id=\"a54325c9-72d9-466a-9bb5-2d684f35151a\">Loading BokehJS ...</span>\n",
       "    </div>\n"
      ]
     },
     "metadata": {},
     "output_type": "display_data"
    },
    {
     "data": {
      "application/javascript": "(function(root) {\n  function now() {\n    return new Date();\n  }\n\n  const force = true;\n\n  if (typeof root._bokeh_onload_callbacks === \"undefined\" || force === true) {\n    root._bokeh_onload_callbacks = [];\n    root._bokeh_is_loading = undefined;\n  }\n\nconst JS_MIME_TYPE = 'application/javascript';\n  const HTML_MIME_TYPE = 'text/html';\n  const EXEC_MIME_TYPE = 'application/vnd.bokehjs_exec.v0+json';\n  const CLASS_NAME = 'output_bokeh rendered_html';\n\n  /**\n   * Render data to the DOM node\n   */\n  function render(props, node) {\n    const script = document.createElement(\"script\");\n    node.appendChild(script);\n  }\n\n  /**\n   * Handle when an output is cleared or removed\n   */\n  function handleClearOutput(event, handle) {\n    const cell = handle.cell;\n\n    const id = cell.output_area._bokeh_element_id;\n    const server_id = cell.output_area._bokeh_server_id;\n    // Clean up Bokeh references\n    if (id != null && id in Bokeh.index) {\n      Bokeh.index[id].model.document.clear();\n      delete Bokeh.index[id];\n    }\n\n    if (server_id !== undefined) {\n      // Clean up Bokeh references\n      const cmd_clean = \"from bokeh.io.state import curstate; print(curstate().uuid_to_server['\" + server_id + \"'].get_sessions()[0].document.roots[0]._id)\";\n      cell.notebook.kernel.execute(cmd_clean, {\n        iopub: {\n          output: function(msg) {\n            const id = msg.content.text.trim();\n            if (id in Bokeh.index) {\n              Bokeh.index[id].model.document.clear();\n              delete Bokeh.index[id];\n            }\n          }\n        }\n      });\n      // Destroy server and session\n      const cmd_destroy = \"import bokeh.io.notebook as ion; ion.destroy_server('\" + server_id + \"')\";\n      cell.notebook.kernel.execute(cmd_destroy);\n    }\n  }\n\n  /**\n   * Handle when a new output is added\n   */\n  function handleAddOutput(event, handle) {\n    const output_area = handle.output_area;\n    const output = handle.output;\n\n    // limit handleAddOutput to display_data with EXEC_MIME_TYPE content only\n    if ((output.output_type != \"display_data\") || (!Object.prototype.hasOwnProperty.call(output.data, EXEC_MIME_TYPE))) {\n      return\n    }\n\n    const toinsert = output_area.element.find(\".\" + CLASS_NAME.split(' ')[0]);\n\n    if (output.metadata[EXEC_MIME_TYPE][\"id\"] !== undefined) {\n      toinsert[toinsert.length - 1].firstChild.textContent = output.data[JS_MIME_TYPE];\n      // store reference to embed id on output_area\n      output_area._bokeh_element_id = output.metadata[EXEC_MIME_TYPE][\"id\"];\n    }\n    if (output.metadata[EXEC_MIME_TYPE][\"server_id\"] !== undefined) {\n      const bk_div = document.createElement(\"div\");\n      bk_div.innerHTML = output.data[HTML_MIME_TYPE];\n      const script_attrs = bk_div.children[0].attributes;\n      for (let i = 0; i < script_attrs.length; i++) {\n        toinsert[toinsert.length - 1].firstChild.setAttribute(script_attrs[i].name, script_attrs[i].value);\n        toinsert[toinsert.length - 1].firstChild.textContent = bk_div.children[0].textContent\n      }\n      // store reference to server id on output_area\n      output_area._bokeh_server_id = output.metadata[EXEC_MIME_TYPE][\"server_id\"];\n    }\n  }\n\n  function register_renderer(events, OutputArea) {\n\n    function append_mime(data, metadata, element) {\n      // create a DOM node to render to\n      const toinsert = this.create_output_subarea(\n        metadata,\n        CLASS_NAME,\n        EXEC_MIME_TYPE\n      );\n      this.keyboard_manager.register_events(toinsert);\n      // Render to node\n      const props = {data: data, metadata: metadata[EXEC_MIME_TYPE]};\n      render(props, toinsert[toinsert.length - 1]);\n      element.append(toinsert);\n      return toinsert\n    }\n\n    /* Handle when an output is cleared or removed */\n    events.on('clear_output.CodeCell', handleClearOutput);\n    events.on('delete.Cell', handleClearOutput);\n\n    /* Handle when a new output is added */\n    events.on('output_added.OutputArea', handleAddOutput);\n\n    /**\n     * Register the mime type and append_mime function with output_area\n     */\n    OutputArea.prototype.register_mime_type(EXEC_MIME_TYPE, append_mime, {\n      /* Is output safe? */\n      safe: true,\n      /* Index of renderer in `output_area.display_order` */\n      index: 0\n    });\n  }\n\n  // register the mime type if in Jupyter Notebook environment and previously unregistered\n  if (root.Jupyter !== undefined) {\n    const events = require('base/js/events');\n    const OutputArea = require('notebook/js/outputarea').OutputArea;\n\n    if (OutputArea.prototype.mime_types().indexOf(EXEC_MIME_TYPE) == -1) {\n      register_renderer(events, OutputArea);\n    }\n  }\n  if (typeof (root._bokeh_timeout) === \"undefined\" || force === true) {\n    root._bokeh_timeout = Date.now() + 5000;\n    root._bokeh_failed_load = false;\n  }\n\n  const NB_LOAD_WARNING = {'data': {'text/html':\n     \"<div style='background-color: #fdd'>\\n\"+\n     \"<p>\\n\"+\n     \"BokehJS does not appear to have successfully loaded. If loading BokehJS from CDN, this \\n\"+\n     \"may be due to a slow or bad network connection. Possible fixes:\\n\"+\n     \"</p>\\n\"+\n     \"<ul>\\n\"+\n     \"<li>re-rerun `output_notebook()` to attempt to load from CDN again, or</li>\\n\"+\n     \"<li>use INLINE resources instead, as so:</li>\\n\"+\n     \"</ul>\\n\"+\n     \"<code>\\n\"+\n     \"from bokeh.resources import INLINE\\n\"+\n     \"output_notebook(resources=INLINE)\\n\"+\n     \"</code>\\n\"+\n     \"</div>\"}};\n\n  function display_loaded() {\n    const el = document.getElementById(\"a54325c9-72d9-466a-9bb5-2d684f35151a\");\n    if (el != null) {\n      el.textContent = \"BokehJS is loading...\";\n    }\n    if (root.Bokeh !== undefined) {\n      if (el != null) {\n        el.textContent = \"BokehJS \" + root.Bokeh.version + \" successfully loaded.\";\n      }\n    } else if (Date.now() < root._bokeh_timeout) {\n      setTimeout(display_loaded, 100)\n    }\n  }\n\n  function run_callbacks() {\n    try {\n      root._bokeh_onload_callbacks.forEach(function(callback) {\n        if (callback != null)\n          callback();\n      });\n    } finally {\n      delete root._bokeh_onload_callbacks\n    }\n    console.debug(\"Bokeh: all callbacks have finished\");\n  }\n\n  function load_libs(css_urls, js_urls, callback) {\n    if (css_urls == null) css_urls = [];\n    if (js_urls == null) js_urls = [];\n\n    root._bokeh_onload_callbacks.push(callback);\n    if (root._bokeh_is_loading > 0) {\n      console.debug(\"Bokeh: BokehJS is being loaded, scheduling callback at\", now());\n      return null;\n    }\n    if (js_urls == null || js_urls.length === 0) {\n      run_callbacks();\n      return null;\n    }\n    console.debug(\"Bokeh: BokehJS not loaded, scheduling load and callback at\", now());\n    root._bokeh_is_loading = css_urls.length + js_urls.length;\n\n    function on_load() {\n      root._bokeh_is_loading--;\n      if (root._bokeh_is_loading === 0) {\n        console.debug(\"Bokeh: all BokehJS libraries/stylesheets loaded\");\n        run_callbacks()\n      }\n    }\n\n    function on_error(url) {\n      console.error(\"failed to load \" + url);\n    }\n\n    for (let i = 0; i < css_urls.length; i++) {\n      const url = css_urls[i];\n      const element = document.createElement(\"link\");\n      element.onload = on_load;\n      element.onerror = on_error.bind(null, url);\n      element.rel = \"stylesheet\";\n      element.type = \"text/css\";\n      element.href = url;\n      console.debug(\"Bokeh: injecting link tag for BokehJS stylesheet: \", url);\n      document.body.appendChild(element);\n    }\n\n    for (let i = 0; i < js_urls.length; i++) {\n      const url = js_urls[i];\n      const element = document.createElement('script');\n      element.onload = on_load;\n      element.onerror = on_error.bind(null, url);\n      element.async = false;\n      element.src = url;\n      console.debug(\"Bokeh: injecting script tag for BokehJS library: \", url);\n      document.head.appendChild(element);\n    }\n  };\n\n  function inject_raw_css(css) {\n    const element = document.createElement(\"style\");\n    element.appendChild(document.createTextNode(css));\n    document.body.appendChild(element);\n  }\n\n  const js_urls = [\"https://cdn.bokeh.org/bokeh/release/bokeh-3.1.1.min.js\", \"https://cdn.bokeh.org/bokeh/release/bokeh-gl-3.1.1.min.js\", \"https://cdn.bokeh.org/bokeh/release/bokeh-widgets-3.1.1.min.js\", \"https://cdn.bokeh.org/bokeh/release/bokeh-tables-3.1.1.min.js\", \"https://cdn.bokeh.org/bokeh/release/bokeh-mathjax-3.1.1.min.js\", \"https://unpkg.com/@holoviz/panel@1.1.1/dist/panel.min.js\"];\n  const css_urls = [];\n\n  const inline_js = [    function(Bokeh) {\n      Bokeh.set_log_level(\"info\");\n    },\nfunction(Bokeh) {\n    }\n  ];\n\n  function run_inline_js() {\n    if (root.Bokeh !== undefined || force === true) {\n          for (let i = 0; i < inline_js.length; i++) {\n      inline_js[i].call(root, root.Bokeh);\n    }\nif (force === true) {\n        display_loaded();\n      }} else if (Date.now() < root._bokeh_timeout) {\n      setTimeout(run_inline_js, 100);\n    } else if (!root._bokeh_failed_load) {\n      console.log(\"Bokeh: BokehJS failed to load within specified timeout.\");\n      root._bokeh_failed_load = true;\n    } else if (force !== true) {\n      const cell = $(document.getElementById(\"a54325c9-72d9-466a-9bb5-2d684f35151a\")).parents('.cell').data().cell;\n      cell.output_area.append_execute_result(NB_LOAD_WARNING)\n    }\n  }\n\n  if (root._bokeh_is_loading === 0) {\n    console.debug(\"Bokeh: BokehJS loaded, going straight to plotting\");\n    run_inline_js();\n  } else {\n    load_libs(css_urls, js_urls, function() {\n      console.debug(\"Bokeh: BokehJS plotting callback run at\", now());\n      run_inline_js();\n    });\n  }\n}(window));",
      "application/vnd.bokehjs_load.v0+json": ""
     },
     "metadata": {},
     "output_type": "display_data"
    }
   ],
   "source": [
    "import glob\n",
    "import numpy as np\n",
    "import pandas as pd\n",
    "import matplotlib.pyplot as plt\n",
    "import seaborn as sns\n",
    "import umap\n",
    "import umap.plot as uplot\n",
    "import h5py\n",
    "import pickle\n",
    "from sklearn.utils import Bunch\n",
    "from datetime import datetime\n",
    "import bokeh.plotting as bk\n",
    "import bokeh.transform as btr\n",
    "from bokeh.models import *\n",
    "from bokeh.palettes import *\n",
    "bk.output_notebook()\n",
    "%matplotlib inline\n",
    "sns.set(style='white', context='notebook', rc={'figure.figsize':(14,10)})\n",
    "\n",
    "\n",
    "# get filepaths of all files in '/mnt/c/Users/findm/Desktop/surf2023/waterfall_data/data/'\n",
    "filepaths = glob.glob('/mnt/c/Users/findm/Desktop/surf2023/waterfall_data/data/*.h5')"
   ]
  },
  {
   "cell_type": "code",
   "execution_count": 2,
   "metadata": {},
   "outputs": [
    {
     "name": "stdout",
     "output_type": "stream",
     "text": [
      "['calibrated_wfall', 'extent', 'model_spec', 'model_ts', 'model_wfall', 'plot_freq', 'plot_time', 'spec', 'ts', 'wfall']\n",
      "['calibration_observation_date', 'calibration_source_name', 'dm', 'scatterfit', 'tns_name']\n",
      "<class 'numpy.float64'>\n"
     ]
    }
   ],
   "source": [
    "f = h5py.File(filepaths[-1], 'r')\n",
    "print(list(f['frb'].keys()))\n",
    "print(list(f['frb'].attrs.keys()))"
   ]
  },
  {
   "attachments": {},
   "cell_type": "markdown",
   "metadata": {},
   "source": [
    "- `extent`: the extent of the waterfall data\n",
    "- `plot_freq`: The values of the frequecy indices in $\\rm{MHz}$\n",
    "- `plot_time`: The value of the time indices in $\\rm{\\mu s}$\n",
    "- `wfall`: waterfall data\n",
    "- `model_wfall`: waterfall from fitted data\n",
    "- `spec`: Dynamic Spectrum\n",
    "- `model_spec`: model-fitted dynamic spectrum\n",
    "- `ts`: time series data\n",
    "- `model_ts`: model-fitted time series\n",
    "- `caliberated_wfall`: The waterfall data with calibration applied\n",
    "- `calibrated_observation_date`\n",
    "- `calibration_source_name`\n",
    "- `dm`\n",
    "- `scatterfit`\n",
    "- `tns_name`"
   ]
  },
  {
   "cell_type": "code",
   "execution_count": 4,
   "metadata": {},
   "outputs": [],
   "source": [
    "# make a new sklearn-compatible dataset with one entry for every frb file\n",
    "# each entry should have tns_name and dm as metadata, and plot_freq, plot_time, wfall, spec, ts as data\n",
    "\n",
    "tns_names = []\n",
    "dates = []\n",
    "# dms = []\n",
    "# plot_freqs = []\n",
    "# plot_times = []\n",
    "# wfalls = []\n",
    "specs = []\n",
    "tss = []\n",
    "\n",
    "for f in filepaths:\n",
    "    with h5py.File(f, 'r') as frb:\n",
    "        tns_names.append(frb['frb'].attrs['tns_name'].decode())\n",
    "        dates.append(datetime.strptime(frb['frb'].attrs['tns_name'].decode()[3:-1], '%Y%m%d'))\n",
    "        # dms.append(frb['frb'].attrs['dm'])\n",
    "        # plot_freqs.append(frb['frb']['plot_freq'][:])\n",
    "        # plot_times.append(frb['frb']['plot_time'][:])\n",
    "        # wfalls.append(frb['frb']['wfall'][:])\n",
    "        specs.append(frb['frb']['spec'][:])\n",
    "        tss.append(frb['frb']['ts'][:])\n",
    "        \n",
    "frb_dataset = Bunch(tns_name=tns_names, date=dates, spec=specs, ts=tss)"
   ]
  },
  {
   "cell_type": "code",
   "execution_count": 5,
   "metadata": {},
   "outputs": [],
   "source": [
    "from cfod import catalog\n",
    "catalog = catalog.as_dataframe()"
   ]
  },
  {
   "attachments": {},
   "cell_type": "markdown",
   "metadata": {},
   "source": [
    "| Column Name | Description | Units |\n",
    "| --- | --- | --- |\n",
    "| tns_name | TNS name of the burst | - |\n",
    "| previous_name | Previous name (if applicable) | - |\n",
    "| repeater_name | Associated repeater name (if applicable) | - |\n",
    "| ra | Right ascension (J2000) | degrees |\n",
    "| ra_err | Right ascension error (68% confidence) | degrees |\n",
    "| dec | Declination (J2000) | degrees |\n",
    "| dec_err | Declination error (68% confidence) | degrees |\n",
    "| gl | Galactic longitude | degrees |\n",
    "| gb | Galactic latitude | degrees |\n",
    "| exp_up | Exposure for upper transit of the source | hour |\n",
    "| exp_up_err | Exposure error for upper transit of the source | hour |\n",
    "| exp_low | Exposure for lower transit of the source | hour |\n",
    "| exp_low_err | Exposure error for lower transit of the source | hour |\n",
    "| bonsai_snr | Detection SNR | - |\n",
    "| bonsai_dm | Detection DM | pc cm−3 |\n",
    "| low_ft_68 | Lower limit fluence threshold (68% confidence) | Jy ms |\n",
    "| up_ft_68 | Upper limit fluence threshold (68% confidence) | Jy ms |\n",
    "| low_ft_95 | Lower limit fluence threshold (95% confidence) | Jy ms |\n",
    "| up_ft_95 | Upper limit fluence threshold (95% confidence) | Jy ms |\n",
    "| snr_fitb | SNR determined using the fitting algorithm fitburst | - |\n",
    "| dm_fitb | DM determined using the fitting algorithm fitburst | pc cm−3 |\n",
    "| dm_fitb_err | DM error determined using the fitting algorithm fitburst | pc cm−3 |\n",
    "| dm_exc_ne2001 | DM excess between DM determined by fitburst and NE2001 assuming the best-fit sky position of the source | pc cm−3 |\n",
    "| dm_exc_ymw16 | DM excess between DM determined by fitburst and YMW16 assuming the best-fit sky position of the source | pc cm−3 |\n",
    "| bc_width | Box car width of the pulse | s |\n",
    "| scat_time | Scattering time (at 600MHz) | s |\n",
    "| scat_time_err | Scattering time (at 600MHz) error | s |\n",
    "| flux | Flux | Jy |\n",
    "| flux_err | Flux error | Jy |\n",
    "| fluence | Fluence | Jy ms |\n",
    "| fluence_err | Fluence error | Jy ms |\n",
    "| sub_num | Sub-burst number (1 if the FRB has only one burst) | - |\n",
    "| mjd_400 | Time of arrival in UTC at CHIME location (topocentric) with reference to 400.19 MHz for the specific sub-burst | MJD |\n",
    "| mjd_400_err | Time of arrival in UTC at CHIME location (topocentric) error with reference to 400.19 MHz for the specific sub-burst | MJD |\n",
    "| mjd_inf | Time of arrival in UTC at CHIME location (topocentric) with reference to infinite frequency for the specific sub-burst | MJD |\n",
    "| mjd_inf_err | Time of arrival in UTC at CHIME location (topocentric) error with reference to infinite frequency for the specific sub-burst | MJD |\n",
    "| width_fitb | Width of sub-burst using fitburst | s |\n",
    "| width_fitb_err | Width error of sub-burst using fitburst | s |\n",
    "| sp_idx | Spectral index for the sub-burst | - |\n",
    "| sp_idx_err | Spectral index error for the sub-burst | - |\n",
    "| sp_run | Spectral running for the sub-burst | - |\n",
    "| sp_run_err | Spectral running error for the sub-burst | - |\n",
    "| high_freq | Highest frequency band of detection for the sub-burst | MHz |\n",
    "| low_freq | Lowest frequency band of detection for the sub-burst | MHz |\n",
    "| peak_freq | Peak frequency for the sub-burst | MHz |\n",
    "| chi_sq | Chi-squared from fitburst | - |\n",
    "| dof | Number of degrees of freedom in fitburst | - |\n",
    "| flag_frac | Fraction of spectral channels flagged in fitburst | - |"
   ]
  },
  {
   "cell_type": "code",
   "execution_count": 6,
   "metadata": {},
   "outputs": [],
   "source": [
    "# get attribute of frb by name\n",
    "def get_attr(tns_name, attr_name, log=False):\n",
    "    x = catalog[catalog['tns_name'] == tns_name][attr_name].values[0]\n",
    "    if isinstance(x, str):\n",
    "        x = x.replace('<', '')\n",
    "        x = x.replace('>', '')\n",
    "        x = float(x)\n",
    "    if log:\n",
    "        x = np.log10(x)\n",
    "    return x"
   ]
  },
  {
   "cell_type": "code",
   "execution_count": 89,
   "metadata": {},
   "outputs": [
    {
     "name": "stdout",
     "output_type": "stream",
     "text": [
      "UMAP( verbose=True)\n",
      "Wed Jul  5 02:31:22 2023 Construct fuzzy simplicial set\n",
      "Wed Jul  5 02:31:23 2023 Finding Nearest Neighbors\n",
      "Wed Jul  5 02:31:23 2023 Finished Nearest Neighbor Search\n",
      "Wed Jul  5 02:31:23 2023 Construct embedding\n"
     ]
    },
    {
     "data": {
      "application/vnd.jupyter.widget-view+json": {
       "model_id": "419faac772f24275b05442acebbc97db",
       "version_major": 2,
       "version_minor": 0
      },
      "text/plain": [
       "Epochs completed:   0%|            0/500 [00:00]"
      ]
     },
     "metadata": {},
     "output_type": "display_data"
    },
    {
     "name": "stdout",
     "output_type": "stream",
     "text": [
      "Wed Jul  5 02:31:29 2023 Finished embedding\n"
     ]
    },
    {
     "data": {
      "text/html": [
       "\n",
       "  <div id=\"e6439294-2262-42e2-86d2-5cc42a30c40e\" data-root-id=\"p18993\" style=\"display: contents;\"></div>\n"
      ]
     },
     "metadata": {},
     "output_type": "display_data"
    },
    {
     "data": {
      "application/javascript": "(function(root) {\n  function embed_document(root) {\n  const docs_json = {\"c5aa484f-2128-4d16-baf6-547001f56dc7\":{\"version\":\"3.1.1\",\"title\":\"Bokeh Application\",\"defs\":[{\"type\":\"model\",\"name\":\"ReactiveHTML1\"},{\"type\":\"model\",\"name\":\"FlexBox1\",\"properties\":[{\"name\":\"align_content\",\"kind\":\"Any\",\"default\":\"flex-start\"},{\"name\":\"align_items\",\"kind\":\"Any\",\"default\":\"flex-start\"},{\"name\":\"flex_direction\",\"kind\":\"Any\",\"default\":\"row\"},{\"name\":\"flex_wrap\",\"kind\":\"Any\",\"default\":\"wrap\"},{\"name\":\"justify_content\",\"kind\":\"Any\",\"default\":\"flex-start\"}]},{\"type\":\"model\",\"name\":\"FloatPanel1\",\"properties\":[{\"name\":\"config\",\"kind\":\"Any\",\"default\":{\"type\":\"map\"}},{\"name\":\"contained\",\"kind\":\"Any\",\"default\":true},{\"name\":\"position\",\"kind\":\"Any\",\"default\":\"right-top\"},{\"name\":\"offsetx\",\"kind\":\"Any\",\"default\":null},{\"name\":\"offsety\",\"kind\":\"Any\",\"default\":null},{\"name\":\"theme\",\"kind\":\"Any\",\"default\":\"primary\"},{\"name\":\"status\",\"kind\":\"Any\",\"default\":\"normalized\"}]},{\"type\":\"model\",\"name\":\"GridStack1\",\"properties\":[{\"name\":\"mode\",\"kind\":\"Any\",\"default\":\"warn\"},{\"name\":\"ncols\",\"kind\":\"Any\",\"default\":null},{\"name\":\"nrows\",\"kind\":\"Any\",\"default\":null},{\"name\":\"allow_resize\",\"kind\":\"Any\",\"default\":true},{\"name\":\"allow_drag\",\"kind\":\"Any\",\"default\":true},{\"name\":\"state\",\"kind\":\"Any\",\"default\":[]}]},{\"type\":\"model\",\"name\":\"drag1\",\"properties\":[{\"name\":\"slider_width\",\"kind\":\"Any\",\"default\":5},{\"name\":\"slider_color\",\"kind\":\"Any\",\"default\":\"black\"},{\"name\":\"value\",\"kind\":\"Any\",\"default\":50}]},{\"type\":\"model\",\"name\":\"click1\",\"properties\":[{\"name\":\"terminal_output\",\"kind\":\"Any\",\"default\":\"\"},{\"name\":\"debug_name\",\"kind\":\"Any\",\"default\":\"\"},{\"name\":\"clears\",\"kind\":\"Any\",\"default\":0}]},{\"type\":\"model\",\"name\":\"FastWrapper1\",\"properties\":[{\"name\":\"object\",\"kind\":\"Any\",\"default\":null},{\"name\":\"style\",\"kind\":\"Any\",\"default\":null}]},{\"type\":\"model\",\"name\":\"NotificationAreaBase1\",\"properties\":[{\"name\":\"position\",\"kind\":\"Any\",\"default\":\"bottom-right\"},{\"name\":\"_clear\",\"kind\":\"Any\",\"default\":0}]},{\"type\":\"model\",\"name\":\"NotificationArea1\",\"properties\":[{\"name\":\"notifications\",\"kind\":\"Any\",\"default\":[]},{\"name\":\"position\",\"kind\":\"Any\",\"default\":\"bottom-right\"},{\"name\":\"_clear\",\"kind\":\"Any\",\"default\":0},{\"name\":\"types\",\"kind\":\"Any\",\"default\":[{\"type\":\"map\",\"entries\":[[\"type\",\"warning\"],[\"background\",\"#ffc107\"],[\"icon\",{\"type\":\"map\",\"entries\":[[\"className\",\"fas fa-exclamation-triangle\"],[\"tagName\",\"i\"],[\"color\",\"white\"]]}]]},{\"type\":\"map\",\"entries\":[[\"type\",\"info\"],[\"background\",\"#007bff\"],[\"icon\",{\"type\":\"map\",\"entries\":[[\"className\",\"fas fa-info-circle\"],[\"tagName\",\"i\"],[\"color\",\"white\"]]}]]}]}]},{\"type\":\"model\",\"name\":\"Notification\",\"properties\":[{\"name\":\"background\",\"kind\":\"Any\",\"default\":null},{\"name\":\"duration\",\"kind\":\"Any\",\"default\":3000},{\"name\":\"icon\",\"kind\":\"Any\",\"default\":null},{\"name\":\"message\",\"kind\":\"Any\",\"default\":\"\"},{\"name\":\"notification_type\",\"kind\":\"Any\",\"default\":null},{\"name\":\"_destroyed\",\"kind\":\"Any\",\"default\":false}]},{\"type\":\"model\",\"name\":\"TemplateActions1\",\"properties\":[{\"name\":\"open_modal\",\"kind\":\"Any\",\"default\":0},{\"name\":\"close_modal\",\"kind\":\"Any\",\"default\":0}]},{\"type\":\"model\",\"name\":\"BootstrapTemplateActions1\",\"properties\":[{\"name\":\"open_modal\",\"kind\":\"Any\",\"default\":0},{\"name\":\"close_modal\",\"kind\":\"Any\",\"default\":0}]},{\"type\":\"model\",\"name\":\"MaterialTemplateActions1\",\"properties\":[{\"name\":\"open_modal\",\"kind\":\"Any\",\"default\":0},{\"name\":\"close_modal\",\"kind\":\"Any\",\"default\":0}]}],\"roots\":[{\"type\":\"object\",\"name\":\"Figure\",\"id\":\"p18993\",\"attributes\":{\"x_range\":{\"type\":\"object\",\"name\":\"DataRange1d\",\"id\":\"p18994\"},\"y_range\":{\"type\":\"object\",\"name\":\"DataRange1d\",\"id\":\"p18995\"},\"x_scale\":{\"type\":\"object\",\"name\":\"LinearScale\",\"id\":\"p19007\"},\"y_scale\":{\"type\":\"object\",\"name\":\"LinearScale\",\"id\":\"p19009\"},\"title\":{\"type\":\"object\",\"name\":\"Title\",\"id\":\"p18996\",\"attributes\":{\"text\":\"UMAP projection of FRB data\"}},\"renderers\":[{\"type\":\"object\",\"name\":\"GlyphRenderer\",\"id\":\"p19038\",\"attributes\":{\"data_source\":{\"type\":\"object\",\"name\":\"ColumnDataSource\",\"id\":\"p19029\",\"attributes\":{\"selected\":{\"type\":\"object\",\"name\":\"Selection\",\"id\":\"p19030\",\"attributes\":{\"indices\":[],\"line_indices\":[]}},\"selection_policy\":{\"type\":\"object\",\"name\":\"UnionRenderers\",\"id\":\"p19031\"},\"data\":{\"type\":\"map\",\"entries\":[[\"index\",{\"type\":\"ndarray\",\"array\":{\"type\":\"bytes\",\"data\":\"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\"},\"shape\":[529],\"dtype\":\"int32\",\"order\":\"little\"}],[\"x\",{\"type\":\"ndarray\",\"array\":{\"type\":\"bytes\",\"data\":\"YtYjQJvmEEBmAlRAVwLnP1a6SkDJv/g/tNQeQAhlH0ApT90/h+EsQFK7FkBFkOs/tQZMQDuZOECcVr8/W9ceQA0eJkDKiQZAYGUhQFwv6z/ghgNAyI/wP8J+4T+Tyh5AmRMHQMzyEEBoUwNAc9LdPy+LDEAUIQdAu9AeQAZz+z8VYS5A6hAKQH6VD0D5GAVAb7jhP7vEJ0DXsxBAJXsVQAEc+j9P0hhAjF0MQF5r8T8bo9U/gr8FQJPsFUDz+Ps/JufJP9n8LUB3NjhA+30cQG211D+cP/o/pef+P6I/sD+Slg1AUaUcQPRTFkClXgBAxGQHQAfmFEAR5q4/bTsEQNLLAkBDFT1Abf7kP8APLkCGcyNAbtwcQMZ5E0DfhD5A+jENQFwiJ0BICglA1nBAQLBeMEAIX0hAGMYLQPKTDEA0TPU/4e80QARSIUCvSi1Au0jeP8r+AEDMsk5ANEdDQP46QEDBqN0/NAwfQJcrDkC3JFdAlYQxQB6pQUA9qCZAx4sYQPddNEBln3m9cMFUQHdzBkCQdjBA4qcPQDX7I0AeJxBAqCHuP8SC+T9u8ARA8BIqQNnkI0AZziNA0DI3QPdoyj+M4ylArBcUQHr3pz+dCSVAZedMQJOqvj8y8j5AfwNKQIlgLEA20CRA6nyFP/0kDkAOg1Q/xRkpQHOHLUDW/jRAKm84QJC70j+AUUZAXZE5QI6x8j801ak/FaiFP0q1EkCplZO9Y+6eP1frI0DpwcY/jW7YP4IO5D/yqg1AUeY3QKdBUUByKwtAUcraP2VZ/z8kquA/U0tTQPa7EEBiTQ5Achk6QHKDIz9Jmi69tZs6QJ4Msj8irLM//RDTPr/FXkBi8j5AQF0oQCAljT8alwZAsghBPwccEkB91/g/Cjg3QPFgT0D2mcE+Y2Q3Pqj/oz+ehRJA04NHQHGTHkBd/T1AlUEfQHlwOkBS1dA/0zgpQPJ6yT9kDT9A4HtBQPxiSkAl0UlAeeMgQGb23T+yUKY/R0C3P2r1yT7NeKc/AcwgQCOjDEAnjIA/JVGDPwMS4D8lXARAfB+9PzPzZkBCH30/66Y4QMmkxj/LhDJA39uzP6guRkD+qtQ/VFNBQB8AYEBJSsg/M39JQFfwBUCYOVlAiFXsPzJt4j/FjVBADEj1P4hJ0j+V2LY+h62/P9f4ED+ePYI/G5dQQG7O1D8jZhtABaabP6oh3j8GtT9AaSAqQCkHKUCPXTVAdLKCP4zB7D8l2UtAZmEvQIatprtp0xtA42WsPxps8b1w+BFAM1IRQHO4bD/waIQ/DQ9MQNUqSkDn2Mw/u6wCQJRNLkC8pzhA6Q4aQD/MA0AZ/qk+NSepP9sngj8EakpAY0euP8RHOUDCrhhAX+gKQOQWIEC+T0tAOpJIQHOII0AIB/8/0bCYP1jImD+gIRNA9Zl9PzsqOT9ovfc/nKD2P0Xnlj8wTSE/ma+BPxeaPz+OVeg/lJrUP1If4T/gfgZAiG1+P2Z1xj+fHzBA5no0QB1+aEC3rdE//t0hQGGBQ0Au/FY/lppBQFugDkBKhyJAnUZ/P9BNI0DKeiNAXxzUP8BrLkDwqdo/U1pBQFBa1z+N8pA/rbsLQHsDez/6Iso/qRM0QOb3gj+U51hAwK3NP5fCKUBaVTFANdshQOYb4T/BEilAZIw9QOJCIEDedFxApX1PQPYPI0CbVEJAKvyEPWFdNUC4Yw9ADfFRQMILVEA0qE5Ab2dCP7zMmT9p/Ec/SqFnQN9uzj+WBmFAuDePQDZCNz99mdo/aOYrQIrlKz/H/xhApkCXP8drQ0A6dd8/0+auP0GGJEASnw5AIW+RP5NKyj82a/I/B6TXP0cIwT8mmYc/mTVhQAbb3z63XYI/dqR9P0PFVkDttco/93N+QAvvOECpG0pAV8EdQC7ZmD+2mytAB2UoQLXh6z+qZGlAgRUgP1RMbT+kxipAOw3NPxEB/z8m4NU/fHV/P51plT8ylaI/xbOOQHjKVkDgF1RApy6RPw6tjT8aJCU/syz2P3ofYECacsw/rmeTP8BfOEDmNmFATNkfQBvCgT9P9YtAWIFgQITEjz/+U5g/0vsJQGD/UkA1974/JSJQQF1GUkAHEyNAQMl9QJeGK0BjHYBAuXxaQEC3uj8Dc5FAq2BJQK5veUC69cE/PBW/P/0JCkDhxl5Aoa90QBO/dT5nUTdAPPxKQP+YUkCjhls/14B6QDqXAECr5GZAj1IvQFFSYkAxOro/2y/gP6iyX0AnhjA/IbdrQFFKe0Amhog/s/dTQHtcGj/JblhA1BnoPwbJoj/24f4/ZQd7QN2Igj9wPGRAc+9bQOs+/D7flSZAPMQNQMQNqz9icgo/3oQsQPmITUAqWWxAHIXvP49aG0Drvb4/TBkJQJh0pD9Nuco/NIVjQLhhDT+0ag0/2VoAPyztQT63iVBAudpJP83mKD/s13VAcElyQFRKZUC/jlpAWu5kP0XjR0ADM3A/zs0OQNPjTD4vdM8/BKhkP07iF0AaTvQ+X/xKQGhxdkA9b4U/HfcPQL6mMD+OPdU+bk0yPva6vT7aHQxAg/zFPzaXVkAiOThAQBB4QOJGh0Bg5mFAU8pyP6CfbUBz6xFAWvdhQLNHZUBat21AXQPAP6O2Gj7kYyJAjHytPya4xj+KgrY/yLUeQGjC2j6K8wM/BpmDPwGN4z8JVEI/YQnjPpXEqj+unZ0/7tiEPzBSa0A4ImlA/0MWQBUwikDLGYFAqGepP4AejECruGxA4rkYQOuVLEBoap8/UW8yQJHbdUBTWGZA8hYHQF4Bg0AiYjZAzzg4QLQ3j0CiqQxAOIPgPw==\"},\"shape\":[529],\"dtype\":\"float32\",\"order\":\"little\"}],[\"y\",{\"type\":\"ndarray\",\"array\":{\"type\":\"bytes\",\"data\":\"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\"},\"shape\":[529],\"dtype\":\"float32\",\"order\":\"little\"}],[\"tns_name\",{\"type\":\"ndarray\",\"array\":[\"FRB20180725A\",\"FRB20180727A\",\"FRB20180729A\",\"FRB20180729B\",\"FRB20180730A\",\"FRB20180801A\",\"FRB20180806A\",\"FRB20180810A\",\"FRB20180810B\",\"FRB20180812A\",\"FRB20180814A\",\"FRB20180814B\",\"FRB20180817A\",\"FRB20180904A\",\"FRB20180906A\",\"FRB20180906B\",\"FRB20180907A\",\"FRB20180907B\",\"FRB20180907C\",\"FRB20180907D\",\"FRB20180907E\",\"FRB20180908B\",\"FRB20180909A\",\"FRB20180910A\",\"FRB20180911A\",\"FRB20180911C\",\"FRB20180915A\",\"FRB20180915B\",\"FRB20180916A\",\"FRB20180916B\",\"FRB20180916C\",\"FRB20180917A\",\"FRB20180917B\",\"FRB20180918A\",\"FRB20180919A\",\"FRB20180919B\",\"FRB20180920A\",\"FRB20180920B\",\"FRB20180921A\",\"FRB20180922A\",\"FRB20180923A\",\"FRB20180923C\",\"FRB20180923D\",\"FRB20180924A\",\"FRB20180925A\",\"FRB20180925B\",\"FRB20180928A\",\"FRB20181012B\",\"FRB20181013A\",\"FRB20181013B\",\"FRB20181013C\",\"FRB20181013E\",\"FRB20181014A\",\"FRB20181014B\",\"FRB20181014C\",\"FRB20181014D\",\"FRB20181015A\",\"FRB20181017A\",\"FRB20181017B\",\"FRB20181018A\",\"FRB20181018B\",\"FRB20181018C\",\"FRB20181019A\",\"FRB20181019B\",\"FRB20181019C\",\"FRB20181020A\",\"FRB20181022C\",\"FRB20181022D\",\"FRB20181022E\",\"FRB20181025A\",\"FRB20181027A\",\"FRB20181028A\",\"FRB20181030A\",\"FRB20181030B\",\"FRB20181030C\",\"FRB20181030D\",\"FRB20181030E\",\"FRB20181101A\",\"FRB20181102A\",\"FRB20181104A\",\"FRB20181104B\",\"FRB20181104C\",\"FRB20181115A\",\"FRB20181116A\",\"FRB20181116B\",\"FRB20181117A\",\"FRB20181117B\",\"FRB20181117C\",\"FRB20181118A\",\"FRB20181118B\",\"FRB20181118C\",\"FRB20181119A\",\"FRB20181119B\",\"FRB20181119C\",\"FRB20181119D\",\"FRB20181119E\",\"FRB20181120B\",\"FRB20181120C\",\"FRB20181122A\",\"FRB20181122B\",\"FRB20181123A\",\"FRB20181124A\",\"FRB20181124B\",\"FRB20181125A\",\"FRB20181126A\",\"FRB20181127A\",\"FRB20181128A\",\"FRB20181128B\",\"FRB20181128C\",\"FRB20181128D\",\"FRB20181129A\",\"FRB20181129B\",\"FRB20181129C\",\"FRB20181130A\",\"FRB20181201A\",\"FRB20181201B\",\"FRB20181202A\",\"FRB20181202B\",\"FRB20181202C\",\"FRB20181203A\",\"FRB20181203B\",\"FRB20181203C\",\"FRB20181208A\",\"FRB20181209A\",\"FRB20181213A\",\"FRB20181213B\",\"FRB20181213C\",\"FRB20181214A\",\"FRB20181214B\",\"FRB20181214C\",\"FRB20181214D\",\"FRB20181214F\",\"FRB20181215A\",\"FRB20181215B\",\"FRB20181216A\",\"FRB20181217A\",\"FRB20181218A\",\"FRB20181218B\",\"FRB20181218C\",\"FRB20181219A\",\"FRB20181219B\",\"FRB20181219C\",\"FRB20181220B\",\"FRB20181221A\",\"FRB20181221B\",\"FRB20181222A\",\"FRB20181222B\",\"FRB20181222C\",\"FRB20181222E\",\"FRB20181223A\",\"FRB20181223B\",\"FRB20181223C\",\"FRB20181224A\",\"FRB20181224B\",\"FRB20181224C\",\"FRB20181224D\",\"FRB20181224E\",\"FRB20181225A\",\"FRB20181225B\",\"FRB20181226A\",\"FRB20181226B\",\"FRB20181226C\",\"FRB20181226D\",\"FRB20181226E\",\"FRB20181227A\",\"FRB20181228A\",\"FRB20181228B\",\"FRB20181228C\",\"FRB20181229A\",\"FRB20181229B\",\"FRB20181230A\",\"FRB20181230B\",\"FRB20181230C\",\"FRB20181230D\",\"FRB20181230E\",\"FRB20181231A\",\"FRB20181231B\",\"FRB20181231C\",\"FRB20190101A\",\"FRB20190101B\",\"FRB20190102A\",\"FRB20190102B\",\"FRB20190103A\",\"FRB20190103B\",\"FRB20190103C\",\"FRB20190103D\",\"FRB20190103E\",\"FRB20190104A\",\"FRB20190104B\",\"FRB20190105A\",\"FRB20190106A\",\"FRB20190106B\",\"FRB20190107A\",\"FRB20190107B\",\"FRB20190109A\",\"FRB20190109B\",\"FRB20190110A\",\"FRB20190110B\",\"FRB20190110C\",\"FRB20190111A\",\"FRB20190111B\",\"FRB20190112A\",\"FRB20190113A\",\"FRB20190114A\",\"FRB20190115A\",\"FRB20190115B\",\"FRB20190116A\",\"FRB20190116B\",\"FRB20190116C\",\"FRB20190116D\",\"FRB20190116E\",\"FRB20190116F\",\"FRB20190117A\",\"FRB20190117C\",\"FRB20190117D\",\"FRB20190118A\",\"FRB20190118B\",\"FRB20190121A\",\"FRB20190122A\",\"FRB20190122B\",\"FRB20190122C\",\"FRB20190124A\",\"FRB20190124B\",\"FRB20190124C\",\"FRB20190124D\",\"FRB20190124E\",\"FRB20190124F\",\"FRB20190125A\",\"FRB20190125B\",\"FRB20190126A\",\"FRB20190127B\",\"FRB20190128A\",\"FRB20190128B\",\"FRB20190128C\",\"FRB20190128D\",\"FRB20190129A\",\"FRB20190130A\",\"FRB20190130B\",\"FRB20190131B\",\"FRB20190131C\",\"FRB20190131D\",\"FRB20190131E\",\"FRB20190201A\",\"FRB20190201B\",\"FRB20190202A\",\"FRB20190202B\",\"FRB20190203A\",\"FRB20190203B\",\"FRB20190203C\",\"FRB20190204A\",\"FRB20190204B\",\"FRB20190205A\",\"FRB20190206A\",\"FRB20190206B\",\"FRB20190206C\",\"FRB20190208A\",\"FRB20190208B\",\"FRB20190208C\",\"FRB20190209A\",\"FRB20190210A\",\"FRB20190210B\",\"FRB20190210C\",\"FRB20190210D\",\"FRB20190210E\",\"FRB20190211A\",\"FRB20190211B\",\"FRB20190212A\",\"FRB20190212B\",\"FRB20190212C\",\"FRB20190212D\",\"FRB20190213A\",\"FRB20190213B\",\"FRB20190213C\",\"FRB20190213D\",\"FRB20190214A\",\"FRB20190214C\",\"FRB20190215B\",\"FRB20190216A\",\"FRB20190217A\",\"FRB20190217B\",\"FRB20190218A\",\"FRB20190218B\",\"FRB20190218C\",\"FRB20190219A\",\"FRB20190219B\",\"FRB20190219C\",\"FRB20190220A\",\"FRB20190221A\",\"FRB20190221B\",\"FRB20190221C\",\"FRB20190221D\",\"FRB20190222A\",\"FRB20190222B\",\"FRB20190222C\",\"FRB20190222D\",\"FRB20190223A\",\"FRB20190223B\",\"FRB20190224A\",\"FRB20190224B\",\"FRB20190224C\",\"FRB20190224D\",\"FRB20190224E\",\"FRB20190226A\",\"FRB20190226B\",\"FRB20190226C\",\"FRB20190227A\",\"FRB20190227B\",\"FRB20190228B\",\"FRB20190301A\",\"FRB20190301B\",\"FRB20190301C\",\"FRB20190301D\",\"FRB20190302A\",\"FRB20190303A\",\"FRB20190303B\",\"FRB20190303C\",\"FRB20190303D\",\"FRB20190304A\",\"FRB20190304B\",\"FRB20190304C\",\"FRB20190307A\",\"FRB20190307B\",\"FRB20190308B\",\"FRB20190308C\",\"FRB20190309A\",\"FRB20190313A\",\"FRB20190313B\",\"FRB20190316A\",\"FRB20190317C\",\"FRB20190317E\",\"FRB20190317F\",\"FRB20190318A\",\"FRB20190319A\",\"FRB20190320A\",\"FRB20190320B\",\"FRB20190320C\",\"FRB20190320D\",\"FRB20190320E\",\"FRB20190322A\",\"FRB20190322C\",\"FRB20190323A\",\"FRB20190323B\",\"FRB20190323C\",\"FRB20190323D\",\"FRB20190325A\",\"FRB20190325B\",\"FRB20190325C\",\"FRB20190326A\",\"FRB20190327A\",\"FRB20190328A\",\"FRB20190328B\",\"FRB20190328C\",\"FRB20190329B\",\"FRB20190329C\",\"FRB20190330A\",\"FRB20190330B\",\"FRB20190401A\",\"FRB20190402A\",\"FRB20190403A\",\"FRB20190403B\",\"FRB20190403C\",\"FRB20190403D\",\"FRB20190403E\",\"FRB20190403F\",\"FRB20190403G\",\"FRB20190404A\",\"FRB20190404B\",\"FRB20190405A\",\"FRB20190405B\",\"FRB20190406A\",\"FRB20190408A\",\"FRB20190409A\",\"FRB20190409B\",\"FRB20190409C\",\"FRB20190409D\",\"FRB20190410A\",\"FRB20190410B\",\"FRB20190411A\",\"FRB20190411B\",\"FRB20190411C\",\"FRB20190412A\",\"FRB20190412B\",\"FRB20190414A\",\"FRB20190414B\",\"FRB20190415A\",\"FRB20190415B\",\"FRB20190415C\",\"FRB20190416A\",\"FRB20190416B\",\"FRB20190417A\",\"FRB20190417B\",\"FRB20190417C\",\"FRB20190418A\",\"FRB20190419A\",\"FRB20190419B\",\"FRB20190420A\",\"FRB20190420B\",\"FRB20190420C\",\"FRB20190421A\",\"FRB20190421B\",\"FRB20190422A\",\"FRB20190422B\",\"FRB20190423A\",\"FRB20190423B\",\"FRB20190423C\",\"FRB20190423D\",\"FRB20190424A\",\"FRB20190425A\",\"FRB20190425B\",\"FRB20190426A\",\"FRB20190427A\",\"FRB20190428A\",\"FRB20190429A\",\"FRB20190429B\",\"FRB20190430A\",\"FRB20190430B\",\"FRB20190430C\",\"FRB20190501B\",\"FRB20190502A\",\"FRB20190502B\",\"FRB20190502C\",\"FRB20190515A\",\"FRB20190515B\",\"FRB20190515C\",\"FRB20190515D\",\"FRB20190516B\",\"FRB20190517B\",\"FRB20190517C\",\"FRB20190517D\",\"FRB20190518A\",\"FRB20190518B\",\"FRB20190518C\",\"FRB20190518D\",\"FRB20190518E\",\"FRB20190518G\",\"FRB20190519A\",\"FRB20190519B\",\"FRB20190519C\",\"FRB20190519D\",\"FRB20190519E\",\"FRB20190519F\",\"FRB20190519G\",\"FRB20190519H\",\"FRB20190519J\",\"FRB20190520A\",\"FRB20190527A\",\"FRB20190527B\",\"FRB20190527C\",\"FRB20190529A\",\"FRB20190530A\",\"FRB20190531A\",\"FRB20190531B\",\"FRB20190531C\",\"FRB20190531E\",\"FRB20190601A\",\"FRB20190601B\",\"FRB20190601C\",\"FRB20190601D\",\"FRB20190603A\",\"FRB20190603B\",\"FRB20190604A\",\"FRB20190604C\",\"FRB20190604D\",\"FRB20190604E\",\"FRB20190604F\",\"FRB20190604G\",\"FRB20190605A\",\"FRB20190605B\",\"FRB20190605C\",\"FRB20190605D\",\"FRB20190606A\",\"FRB20190606B\",\"FRB20190607A\",\"FRB20190607B\",\"FRB20190608A\",\"FRB20190609A\",\"FRB20190609B\",\"FRB20190609C\",\"FRB20190609D\",\"FRB20190611A\",\"FRB20190612A\",\"FRB20190612B\",\"FRB20190612C\",\"FRB20190613A\",\"FRB20190613B\",\"FRB20190614A\",\"FRB20190614B\",\"FRB20190614C\",\"FRB20190616A\",\"FRB20190617A\",\"FRB20190617B\",\"FRB20190617C\",\"FRB20190618A\",\"FRB20190619A\",\"FRB20190619B\",\"FRB20190619C\",\"FRB20190619D\",\"FRB20190621A\",\"FRB20190621B\",\"FRB20190621C\",\"FRB20190621D\",\"FRB20190622A\",\"FRB20190623A\",\"FRB20190623B\",\"FRB20190623C\",\"FRB20190624A\",\"FRB20190624B\",\"FRB20190625A\",\"FRB20190625C\",\"FRB20190625D\",\"FRB20190625E\",\"FRB20190626A\",\"FRB20190627A\",\"FRB20190627B\",\"FRB20190627C\",\"FRB20190627D\",\"FRB20190628A\",\"FRB20190628B\",\"FRB20190628C\",\"FRB20190629A\",\"FRB20190630A\",\"FRB20190630B\",\"FRB20190630C\",\"FRB20190630D\",\"FRB20190701A\",\"FRB20190701B\",\"FRB20190701C\",\"FRB20190701D\",\"FRB20190701E\"],\"shape\":[529],\"dtype\":\"object\",\"order\":\"little\"}],[\"date\",{\"type\":\"ndarray\",\"array\":{\"type\":\"bytes\",\"data\":\"4gcAAOIHAADiBwAA4gcAAOIHAADiBwAA4gcAAOIHAADiBwAA4gcAAOIHAADiBwAA4gcAAOIHAADiBwAA4gcAAOIHAADiBwAA4gcAAOIHAADiBwAA4gcAAOIHAADiBwAA4gcAAOIHAADiBwAA4gcAAOIHAADiBwAA4gcAAOIHAADiBwAA4gcAAOIHAADiBwAA4gcAAOIHAADiBwAA4gcAAOIHAADiBwAA4gcAAOIHAADiBwAA4gcAAOIHAADiBwAA4gcAAOIHAADiBwAA4gcAAOIHAADiBwAA4gcAAOIHAADiBwAA4gcAAOIHAADiBwAA4gcAAOIHAADiBwAA4gcAAOIHAADiBwAA4gcAAOIHAADiBwAA4gcAAOIHAADiBwAA4gcAAOIHAADiBwAA4gcAAOIHAADiBwAA4gcAAOIHAADiBwAA4gcAAOIHAADiBwAA4gcAAOIHAADiBwAA4gcAAOIHAADiBwAA4gcAAOIHAADiBwAA4gcAAOIHAADiBwAA4gcAAOIHAADiBwAA4gcAAOIHAADiBwAA4gcAAOIHAADiBwAA4gcAAOIHAADiBwAA4gcAAOIHAADiBwAA4gcAAOIHAADiBwAA4gcAAOIHAADiBwAA4gcAAOIHAADiBwAA4gcAAOIHAADiBwAA4gcAAOIHAADiBwAA4gcAAOIHAADiBwAA4gcAAOIHAADiBwAA4gcAAOIHAADiBwAA4gcAAOIHAADiBwAA4gcAAOIHAADiBwAA4gcAAOIHAADiBwAA4gcAAOIHAADiBwAA4gcAAOIHAADiBwAA4gcAAOIHAADiBwAA4gcAAOIHAADiBwAA4gcAAOIHAADiBwAA4gcAAOIHAADiBwAA4gcAAOIHAADiBwAA4gcAAOIHAADiBwAA4gcAAOIHAADiBwAA4gcAAOIHAADiBwAA4gcAAOIHAADiBwAA4gcAAOMHAADjBwAA4wcAAOMHAADjBwAA4wcAAOMHAADjBwAA4wcAAOMHAADjBwAA4wcAAOMHAADjBwAA4wcAAOMHAADjBwAA4wcAAOMHAADjBwAA4wcAAOMHAADjBwAA4wcAAOMHAADjBwAA4wcAAOMHAADjBwAA4wcAAOMHAADjBwAA4wcAAOMHAADjBwAA4wcAAOMHAADjBwAA4wcAAOMHAADjBwAA4wcAAOMHAADjBwAA4wcAAOMHAADjBwAA4wcAAOMHAADjBwAA4wcAAOMHAADjBwAA4wcAAOMHAADjBwAA4wcAAOMHAADjBwAA4wcAAOMHAADjBwAA4wcAAOMHAADjBwAA4wcAAOMHAADjBwAA4wcAAOMHAADjBwAA4wcAAOMHAADjBwAA4wcAAOMHAADjBwAA4wcAAOMHAADjBwAA4wcAAOMHAADjBwAA4wcAAOMHAADjBwAA4wcAAOMHAADjBwAA4wcAAOMHAADjBwAA4wcAAOMHAADjBwAA4wcAAOMHAADjBwAA4wcAAOMHAADjBwAA4wcAAOMHAADjBwAA4wcAAOMHAADjBwAA4wcAAOMHAADjBwAA4wcAAOMHAADjBwAA4wcAAOMHAADjBwAA4wcAAOMHAADjBwAA4wcAAOMHAADjBwAA4wcAAOMHAADjBwAA4wcAAOMHAADjBwAA4wcAAOMHAADjBwAA4wcAAOMHAADjBwAA4wcAAOMHAADjBwAA4wcAAOMHAADjBwAA4wcAAOMHAADjBwAA4wcAAOMHAADjBwAA4wcAAOMHAADjBwAA4wcAAOMHAADjBwAA4wcAAOMHAADjBwAA4wcAAOMHAADjBwAA4wcAAOMHAADjBwAA4wcAAOMHAADjBwAA4wcAAOMHAADjBwAA4wcAAOMHAADjBwAA4wcAAOMHAADjBwAA4wcAAOMHAADjBwAA4wcAAOMHAADjBwAA4wcAAOMHAADjBwAA4wcAAOMHAADjBwAA4wcAAOMHAADjBwAA4wcAAOMHAADjBwAA4wcAAOMHAADjBwAA4wcAAOMHAADjBwAA4wcAAOMHAADjBwAA4wcAAOMHAADjBwAA4wcAAOMHAADjBwAA4wcAAOMHAADjBwAA4wcAAOMHAADjBwAA4wcAAOMHAADjBwAA4wcAAOMHAADjBwAA4wcAAOMHAADjBwAA4wcAAOMHAADjBwAA4wcAAOMHAADjBwAA4wcAAOMHAADjBwAA4wcAAOMHAADjBwAA4wcAAOMHAADjBwAA4wcAAOMHAADjBwAA4wcAAOMHAADjBwAA4wcAAOMHAADjBwAA4wcAAOMHAADjBwAA4wcAAOMHAADjBwAA4wcAAOMHAADjBwAA4wcAAOMHAADjBwAA4wcAAOMHAADjBwAA4wcAAOMHAADjBwAA4wcAAOMHAADjBwAA4wcAAOMHAADjBwAA4wcAAOMHAADjBwAA4wcAAOMHAADjBwAA4wcAAOMHAADjBwAA4wcAAOMHAADjBwAA4wcAAOMHAADjBwAA4wcAAOMHAADjBwAA4wcAAOMHAADjBwAA4wcAAOMHAADjBwAA4wcAAOMHAADjBwAA4wcAAOMHAADjBwAA4wcAAOMHAADjBwAA4wcAAOMHAADjBwAA4wcAAOMHAADjBwAA4wcAAOMHAADjBwAA4wcAAOMHAADjBwAA4wcAAOMHAADjBwAA4wcAAOMHAADjBwAA4wcAAOMHAADjBwAA4wcAAOMHAADjBwAA4wcAAOMHAADjBwAA4wcAAOMHAADjBwAA4wcAAOMHAADjBwAA4wcAAOMHAADjBwAA4wcAAOMHAADjBwAA4wcAAOMHAADjBwAA4wcAAOMHAADjBwAA4wcAAOMHAADjBwAA4wcAAA==\"},\"shape\":[529],\"dtype\":\"int32\",\"order\":\"little\"}],[\"dm\",{\"type\":\"ndarray\",\"array\":{\"type\":\"bytes\",\"data\":\"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\"},\"shape\":[529],\"dtype\":\"float64\",\"order\":\"little\"}],[\"width\",{\"type\":\"ndarray\",\"array\":{\"type\":\"bytes\",\"data\":\"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\"},\"shape\":[529],\"dtype\":\"float64\",\"order\":\"little\"}]]}}},\"view\":{\"type\":\"object\",\"name\":\"CDSView\",\"id\":\"p19039\",\"attributes\":{\"filter\":{\"type\":\"object\",\"name\":\"AllIndices\",\"id\":\"p19040\"}}},\"glyph\":{\"type\":\"object\",\"name\":\"Circle\",\"id\":\"p19035\",\"attributes\":{\"x\":{\"type\":\"field\",\"field\":\"x\"},\"y\":{\"type\":\"field\",\"field\":\"y\"},\"size\":{\"type\":\"value\",\"value\":7},\"line_color\":{\"type\":\"value\",\"value\":null},\"fill_color\":{\"type\":\"field\",\"field\":\"width\",\"transform\":{\"type\":\"object\",\"name\":\"LinearColorMapper\",\"id\":\"p19028\",\"attributes\":{\"palette\":[\"#0C0786\",\"#100787\",\"#130689\",\"#15068A\",\"#18068B\",\"#1B068C\",\"#1D068D\",\"#1F058E\",\"#21058F\",\"#230590\",\"#250591\",\"#270592\",\"#290593\",\"#2B0594\",\"#2D0494\",\"#2F0495\",\"#310496\",\"#330497\",\"#340498\",\"#360498\",\"#380499\",\"#3A049A\",\"#3B039A\",\"#3D039B\",\"#3F039C\",\"#40039C\",\"#42039D\",\"#44039E\",\"#45039E\",\"#47029F\",\"#49029F\",\"#4A02A0\",\"#4C02A1\",\"#4E02A1\",\"#4F02A2\",\"#5101A2\",\"#5201A3\",\"#5401A3\",\"#5601A3\",\"#5701A4\",\"#5901A4\",\"#5A00A5\",\"#5C00A5\",\"#5E00A5\",\"#5F00A6\",\"#6100A6\",\"#6200A6\",\"#6400A7\",\"#6500A7\",\"#6700A7\",\"#6800A7\",\"#6A00A7\",\"#6C00A8\",\"#6D00A8\",\"#6F00A8\",\"#7000A8\",\"#7200A8\",\"#7300A8\",\"#7500A8\",\"#7601A8\",\"#7801A8\",\"#7901A8\",\"#7B02A8\",\"#7C02A7\",\"#7E03A7\",\"#7F03A7\",\"#8104A7\",\"#8204A7\",\"#8405A6\",\"#8506A6\",\"#8607A6\",\"#8807A5\",\"#8908A5\",\"#8B09A4\",\"#8C0AA4\",\"#8E0CA4\",\"#8F0DA3\",\"#900EA3\",\"#920FA2\",\"#9310A1\",\"#9511A1\",\"#9612A0\",\"#9713A0\",\"#99149F\",\"#9A159E\",\"#9B179E\",\"#9D189D\",\"#9E199C\",\"#9F1A9B\",\"#A01B9B\",\"#A21C9A\",\"#A31D99\",\"#A41E98\",\"#A51F97\",\"#A72197\",\"#A82296\",\"#A92395\",\"#AA2494\",\"#AC2593\",\"#AD2692\",\"#AE2791\",\"#AF2890\",\"#B02A8F\",\"#B12B8F\",\"#B22C8E\",\"#B42D8D\",\"#B52E8C\",\"#B62F8B\",\"#B7308A\",\"#B83289\",\"#B93388\",\"#BA3487\",\"#BB3586\",\"#BC3685\",\"#BD3784\",\"#BE3883\",\"#BF3982\",\"#C03B81\",\"#C13C80\",\"#C23D80\",\"#C33E7F\",\"#C43F7E\",\"#C5407D\",\"#C6417C\",\"#C7427B\",\"#C8447A\",\"#C94579\",\"#CA4678\",\"#CB4777\",\"#CC4876\",\"#CD4975\",\"#CE4A75\",\"#CF4B74\",\"#D04D73\",\"#D14E72\",\"#D14F71\",\"#D25070\",\"#D3516F\",\"#D4526E\",\"#D5536D\",\"#D6556D\",\"#D7566C\",\"#D7576B\",\"#D8586A\",\"#D95969\",\"#DA5A68\",\"#DB5B67\",\"#DC5D66\",\"#DC5E66\",\"#DD5F65\",\"#DE6064\",\"#DF6163\",\"#DF6262\",\"#E06461\",\"#E16560\",\"#E26660\",\"#E3675F\",\"#E3685E\",\"#E46A5D\",\"#E56B5C\",\"#E56C5B\",\"#E66D5A\",\"#E76E5A\",\"#E87059\",\"#E87158\",\"#E97257\",\"#EA7356\",\"#EA7455\",\"#EB7654\",\"#EC7754\",\"#EC7853\",\"#ED7952\",\"#ED7B51\",\"#EE7C50\",\"#EF7D4F\",\"#EF7E4E\",\"#F0804D\",\"#F0814D\",\"#F1824C\",\"#F2844B\",\"#F2854A\",\"#F38649\",\"#F38748\",\"#F48947\",\"#F48A47\",\"#F58B46\",\"#F58D45\",\"#F68E44\",\"#F68F43\",\"#F69142\",\"#F79241\",\"#F79341\",\"#F89540\",\"#F8963F\",\"#F8983E\",\"#F9993D\",\"#F99A3C\",\"#FA9C3B\",\"#FA9D3A\",\"#FA9F3A\",\"#FAA039\",\"#FBA238\",\"#FBA337\",\"#FBA436\",\"#FCA635\",\"#FCA735\",\"#FCA934\",\"#FCAA33\",\"#FCAC32\",\"#FCAD31\",\"#FDAF31\",\"#FDB030\",\"#FDB22F\",\"#FDB32E\",\"#FDB52D\",\"#FDB62D\",\"#FDB82C\",\"#FDB92B\",\"#FDBB2B\",\"#FDBC2A\",\"#FDBE29\",\"#FDC029\",\"#FDC128\",\"#FDC328\",\"#FDC427\",\"#FDC626\",\"#FCC726\",\"#FCC926\",\"#FCCB25\",\"#FCCC25\",\"#FCCE25\",\"#FBD024\",\"#FBD124\",\"#FBD324\",\"#FAD524\",\"#FAD624\",\"#FAD824\",\"#F9D924\",\"#F9DB24\",\"#F8DD24\",\"#F8DF24\",\"#F7E024\",\"#F7E225\",\"#F6E425\",\"#F6E525\",\"#F5E726\",\"#F5E926\",\"#F4EA26\",\"#F3EC26\",\"#F3EE26\",\"#F2F026\",\"#F2F126\",\"#F1F326\",\"#F0F525\",\"#F0F623\",\"#EFF821\"],\"low\":100.0,\"high\":25900.0}}},\"hatch_color\":{\"type\":\"field\",\"field\":\"width\",\"transform\":{\"id\":\"p19028\"}}}},\"nonselection_glyph\":{\"type\":\"object\",\"name\":\"Circle\",\"id\":\"p19036\",\"attributes\":{\"x\":{\"type\":\"field\",\"field\":\"x\"},\"y\":{\"type\":\"field\",\"field\":\"y\"},\"size\":{\"type\":\"value\",\"value\":7},\"line_color\":{\"type\":\"value\",\"value\":null},\"line_alpha\":{\"type\":\"value\",\"value\":0.1},\"fill_color\":{\"type\":\"field\",\"field\":\"width\",\"transform\":{\"id\":\"p19028\"}},\"fill_alpha\":{\"type\":\"value\",\"value\":0.1},\"hatch_color\":{\"type\":\"field\",\"field\":\"width\",\"transform\":{\"id\":\"p19028\"}},\"hatch_alpha\":{\"type\":\"value\",\"value\":0.1}}},\"muted_glyph\":{\"type\":\"object\",\"name\":\"Circle\",\"id\":\"p19037\",\"attributes\":{\"x\":{\"type\":\"field\",\"field\":\"x\"},\"y\":{\"type\":\"field\",\"field\":\"y\"},\"size\":{\"type\":\"value\",\"value\":7},\"line_color\":{\"type\":\"value\",\"value\":null},\"line_alpha\":{\"type\":\"value\",\"value\":0.2},\"fill_color\":{\"type\":\"field\",\"field\":\"width\",\"transform\":{\"id\":\"p19028\"}},\"fill_alpha\":{\"type\":\"value\",\"value\":0.2},\"hatch_color\":{\"type\":\"field\",\"field\":\"width\",\"transform\":{\"id\":\"p19028\"}},\"hatch_alpha\":{\"type\":\"value\",\"value\":0.2}}}}}],\"toolbar\":{\"type\":\"object\",\"name\":\"Toolbar\",\"id\":\"p18998\",\"attributes\":{\"tools\":[{\"type\":\"object\",\"name\":\"CopyTool\",\"id\":\"p18991\"},{\"type\":\"object\",\"name\":\"HoverTool\",\"id\":\"p18992\",\"attributes\":{\"renderers\":\"auto\",\"tooltips\":\"\\n    <div>\\n        <div>\\n            <span style=\\\"font-size: 15px; font-weight: bold;\\\">@tns_name</span>\\n        </div>\\n        <div>\\n            <span style=\\\"font-size: 10px; color: #696;\\\">Width (\\u00b5s): </span>\\n            <span style=\\\"font-size: 10px; color: #696;\\\">@width</span>\\n        </div>\\n    </div>\\n\"}}]}},\"toolbar_location\":\"above\",\"left\":[{\"type\":\"object\",\"name\":\"LinearAxis\",\"id\":\"p19018\",\"attributes\":{\"visible\":false,\"ticker\":{\"type\":\"object\",\"name\":\"BasicTicker\",\"id\":\"p19020\",\"attributes\":{\"mantissas\":[1,2,5]}},\"formatter\":{\"type\":\"object\",\"name\":\"BasicTickFormatter\",\"id\":\"p19021\"},\"major_label_policy\":{\"type\":\"object\",\"name\":\"AllLabels\",\"id\":\"p19019\"}}}],\"below\":[{\"type\":\"object\",\"name\":\"LinearAxis\",\"id\":\"p19011\",\"attributes\":{\"visible\":false,\"ticker\":{\"type\":\"object\",\"name\":\"BasicTicker\",\"id\":\"p19013\",\"attributes\":{\"mantissas\":[1,2,5]}},\"formatter\":{\"type\":\"object\",\"name\":\"BasicTickFormatter\",\"id\":\"p19014\"},\"major_label_policy\":{\"type\":\"object\",\"name\":\"AllLabels\",\"id\":\"p19012\"}}}],\"center\":[{\"type\":\"object\",\"name\":\"Grid\",\"id\":\"p19017\",\"attributes\":{\"visible\":false,\"axis\":{\"id\":\"p19011\"}}},{\"type\":\"object\",\"name\":\"Grid\",\"id\":\"p19024\",\"attributes\":{\"visible\":false,\"dimension\":1,\"axis\":{\"id\":\"p19018\"}}}]}}],\"callbacks\":{\"type\":\"map\"}}};\n  const render_items = [{\"docid\":\"c5aa484f-2128-4d16-baf6-547001f56dc7\",\"roots\":{\"p18993\":\"e6439294-2262-42e2-86d2-5cc42a30c40e\"},\"root_ids\":[\"p18993\"]}];\n  root.Bokeh.embed.embed_items_notebook(docs_json, render_items);\n  }\n  if (root.Bokeh !== undefined) {\n    embed_document(root);\n  } else {\n    let attempts = 0;\n    const timer = setInterval(function(root) {\n      if (root.Bokeh !== undefined) {\n        clearInterval(timer);\n        embed_document(root);\n      } else {\n        attempts++;\n        if (attempts > 100) {\n          clearInterval(timer);\n          console.log(\"Bokeh: ERROR: Unable to run BokehJS code because BokehJS library is missing\");\n        }\n      }\n    }, 10, root)\n  }\n})(window);",
      "application/vnd.bokehjs_exec.v0+json": ""
     },
     "metadata": {
      "application/vnd.bokehjs_exec.v0+json": {
       "id": "p18993"
      }
     },
     "output_type": "display_data"
    }
   ],
   "source": [
    "reducer = umap.UMAP(\n",
    "    n_neighbors=15, \n",
    "    min_dist=0.1, \n",
    "    n_components=2, \n",
    "    metric='euclidean', \n",
    "    verbose=True\n",
    ")\n",
    "reducer.fit(np.nan_to_num(frb_dataset.spec))\n",
    "\n",
    "embedding_df = pd.DataFrame(reducer.embedding_, columns=('x', 'y'))\n",
    "embedding_df['tns_name'] = frb_dataset.tns_name\n",
    "embedding_df['date'] = [d.year for d in frb_dataset.date]\n",
    "embedding_df['dm'] = [get_attr(tns_name, 'dm_fitb') for tns_name in frb_dataset.tns_name]\n",
    "embedding_df['width'] = [get_attr(tns_name, 'width_fitb')*1000000 for tns_name in frb_dataset.tns_name]\n",
    "\n",
    "def make_colormap(col_name):\n",
    "    return btr.linear_cmap(col_name, Plasma256, low=min(embedding_df[col_name]), high=max(embedding_df[col_name]))\n",
    "\n",
    "tooltips = \"\"\"\n",
    "    <div>\n",
    "        <div>\n",
    "            <span style=\"font-size: 15px; font-weight: bold;\">@tns_name</span>\n",
    "        </div>\n",
    "        <div>\n",
    "            <span style=\"font-size: 10px; color: #696;\">Width (µs): </span>\n",
    "            <span style=\"font-size: 10px; color: #696;\">@width</span>\n",
    "        </div>\n",
    "    </div>\n",
    "\"\"\"\n",
    "\n",
    "plot = bk.figure(\n",
    "    title='UMAP projection of FRB data',\n",
    "    toolbar_location='above',\n",
    "    tools=(\n",
    "        CopyTool(),\n",
    "        HoverTool(tooltips=tooltips)\n",
    "    )\n",
    ")\n",
    "\n",
    "plot.circle(\n",
    "    x=\"x\",\n",
    "    y=\"y\", \n",
    "    source=embedding_df, \n",
    "    size=7,\n",
    "    line_color=None,\n",
    "    color=make_colormap('width'),\n",
    ")\n",
    "\n",
    "plot.grid.visible = False\n",
    "plot.axis.visible = False\n",
    "\n",
    "bk.show(plot)\n"
   ]
  },
  {
   "cell_type": "code",
   "execution_count": 107,
   "metadata": {},
   "outputs": [
    {
     "name": "stderr",
     "output_type": "stream",
     "text": [
      "/tmp/ipykernel_23431/2256696748.py:1: UserWarning: save() called but no resources were supplied and output_file(...) was never called, defaulting to resources.CDN\n",
      "  bk.save(plot, 'umap_frb_spec.html')\n",
      "/tmp/ipykernel_23431/2256696748.py:1: UserWarning: save() called but no title was supplied and output_file(...) was never called, using default title 'Bokeh Plot'\n",
      "  bk.save(plot, 'umap_frb_spec.html')\n"
     ]
    },
    {
     "data": {
      "text/plain": [
       "'/home/guutz/dawn/umap_frb_spec.html'"
      ]
     },
     "execution_count": 107,
     "metadata": {},
     "output_type": "execute_result"
    }
   ],
   "source": [
    "bk.save(plot, 'umap_frb_spec.html')"
   ]
  },
  {
   "cell_type": "code",
   "execution_count": 81,
   "metadata": {},
   "outputs": [],
   "source": [
    "import pickle\n",
    "chime_frb_529_interpolated_ts = pickle.load(open('chime_frb_529_interpolated_ts.pkl','rb'))\n",
    "data = chime_frb_529_interpolated_ts[:][3000:8000]"
   ]
  },
  {
   "cell_type": "code",
   "execution_count": 82,
   "metadata": {},
   "outputs": [
    {
     "data": {
      "text/plain": [
       "array([], shape=(0, 14962), dtype=float64)"
      ]
     },
     "execution_count": 82,
     "metadata": {},
     "output_type": "execute_result"
    }
   ],
   "source": [
    "data"
   ]
  },
  {
   "cell_type": "code",
   "execution_count": 101,
   "metadata": {},
   "outputs": [
    {
     "name": "stdout",
     "output_type": "stream",
     "text": [
      "Missing values in second list: \n",
      "Additional values in second list:\n",
      " FRB20190322B,\n",
      "FRB20190317B,\n",
      "FRB20190317A,\n",
      "FRB20181222D,\n",
      "FRB20190329A,\n",
      "FRB20190228A,\n",
      "FRB20181220A\n"
     ]
    }
   ],
   "source": [
    "list1 = frb_dataset['tns_name']\n",
    "list2 = list(catalog['tns_name'])\n",
    "missing = set(list1).difference(list2)\n",
    "added = set(list2).difference(list1)\n",
    "print('Missing values in second list:', ','.join(missing))\n",
    "print('Additional values in second list:\\n', ',\\n'.join(added))"
   ]
  },
  {
   "cell_type": "code",
   "execution_count": 105,
   "metadata": {},
   "outputs": [
    {
     "name": "stdout",
     "output_type": "stream",
     "text": [
      "['FRB20181028A', 'FRB20190501B', 'FRB20190422A', 'FRB20190605B', 'FRB20181117B', 'FRB20181223A', 'FRB20190625E', 'FRB20181226A', 'FRB20181224E', 'FRB20190611A', 'FRB20181019A', 'FRB20190308C', 'FRB20190423B', 'FRB20180917A', 'FRB20181119D', 'FRB20190308B', 'FRB20190519B', 'FRB20181222E', 'FRB20180814B', 'FRB20190109A', 'FRB20190208A', 'FRB20190122C', 'FRB20190301A', 'FRB20181125A', 'FRB20181226B', 'FRB20190104A', 'FRB20181128C', 'FRB20190519A', 'FRB20190421A', 'FRB20190423A', 'FRB20190124C', 'FRB20190604F', 'FRB20190131D', 'FRB20190411C', 'FRB20181222A', 'FRB20190601C', 'FRB20190527A', 'FRB20190213B', 'FRB20181104C', 'FRB20181128A', 'FRB20190609A', 'FRB20190111A']\n",
      "42\n"
     ]
    }
   ],
   "source": [
    "duplicates = [x for x in set(list2) if list2.count(x) > 1]\n",
    "print(duplicates)\n",
    "print(len(duplicates))"
   ]
  },
  {
   "cell_type": "code",
   "execution_count": 106,
   "metadata": {},
   "outputs": [
    {
     "data": {
      "text/plain": [
       "536"
      ]
     },
     "execution_count": 106,
     "metadata": {},
     "output_type": "execute_result"
    }
   ],
   "source": [
    "len(set(list2))"
   ]
  },
  {
   "cell_type": "code",
   "execution_count": null,
   "metadata": {},
   "outputs": [],
   "source": []
  }
 ],
 "metadata": {
  "kernelspec": {
   "display_name": "umap",
   "language": "python",
   "name": "python3"
  },
  "language_info": {
   "codemirror_mode": {
    "name": "ipython",
    "version": 3
   },
   "file_extension": ".py",
   "mimetype": "text/x-python",
   "name": "python",
   "nbconvert_exporter": "python",
   "pygments_lexer": "ipython3",
   "version": "3.9.16"
  },
  "orig_nbformat": 4
 },
 "nbformat": 4,
 "nbformat_minor": 2
}
