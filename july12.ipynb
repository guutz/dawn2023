{
 "cells": [
  {
   "cell_type": "code",
   "execution_count": 4,
   "metadata": {},
   "outputs": [
    {
     "ename": "ModuleNotFoundError",
     "evalue": "No module named 'utils'",
     "output_type": "error",
     "traceback": [
      "\u001b[0;31m---------------------------------------------------------------------------\u001b[0m",
      "\u001b[0;31mModuleNotFoundError\u001b[0m                       Traceback (most recent call last)",
      "Cell \u001b[0;32mIn[4], line 2\u001b[0m\n\u001b[1;32m      1\u001b[0m \u001b[39mimport\u001b[39;00m \u001b[39mnumpy\u001b[39;00m \u001b[39mas\u001b[39;00m \u001b[39mnp\u001b[39;00m\n\u001b[0;32m----> 2\u001b[0m \u001b[39mfrom\u001b[39;00m \u001b[39mutils\u001b[39;00m\u001b[39m.\u001b[39;00m\u001b[39mdawnplot\u001b[39;00m \u001b[39mimport\u001b[39;00m EmbeddingPlot\n\u001b[1;32m      3\u001b[0m \u001b[39mfrom\u001b[39;00m \u001b[39mutils\u001b[39;00m\u001b[39m.\u001b[39;00m\u001b[39mdawnfrb\u001b[39;00m \u001b[39mimport\u001b[39;00m get_frb_info, tns_names\n",
      "\u001b[0;31mModuleNotFoundError\u001b[0m: No module named 'utils'"
     ]
    }
   ],
   "source": [
    "import numpy as np\n",
    "from utils.dawnplot import EmbeddingPlot\n",
    "from utils.dawnfrb import get_frb_info, tns_names"
   ]
  },
  {
   "cell_type": "code",
   "execution_count": null,
   "metadata": {},
   "outputs": [],
   "source": [
    "timeSeries = get_frb_info('ts')\n",
    "pad_len = max([len(x) for x in timeSeries])\n",
    "padded_timeSeries = [np.concatenate([x, np.zeros(pad_len-len(x))]) for x in timeSeries]\n",
    "timeSeriesFFT_real = np.fft.rfft(padded_timeSeries).real"
   ]
  },
  {
   "cell_type": "code",
   "execution_count": null,
   "metadata": {},
   "outputs": [],
   "source": [
    "displayProperties = {\n",
    "    'timeSeriesFFT': {\n",
    "        'data': timeSeriesFFT_real,\n",
    "        'umap': True,\n",
    "        'graph': True,\n",
    "    },\n",
    "    'timeSeries': {\n",
    "        'data': padded_timeSeries,\n",
    "        'graph': True,\n",
    "    },\n",
    "    'tns_name': {\n",
    "        'data': tns_names,\n",
    "        'tooltip': True,\n",
    "    },\n",
    "    'dm': {\n",
    "        'data': get_frb_info('dm'),\n",
    "        'color': True,\n",
    "    },\n",
    "    'width_ms': {\n",
    "        'data': [i*1000 for i in get_frb_info('width_fitb')],\n",
    "        'color': True,\n",
    "        'tooltip': True,\n",
    "    },\n",
    "    'n_subbursts': {\n",
    "        'data': get_frb_info('n_subbursts'),\n",
    "        'color': True,\n",
    "    },\n",
    "    'repeater': {\n",
    "        'data': [\"✔️\" if rp != -9999.0 else \"❌\" for rp in get_frb_info('repeater_name')],\n",
    "        'color': True,\n",
    "    },\n",
    "    'scatterfit': {\n",
    "        'data': [\"✔️\" if sf else \"❌\" for sf in get_frb_info('scatterfit')],\n",
    "        'color': True,\n",
    "    },\n",
    "}"
   ]
  }
 ],
 "metadata": {
  "kernelspec": {
   "display_name": "umap",
   "language": "python",
   "name": "python3"
  },
  "language_info": {
   "codemirror_mode": {
    "name": "ipython",
    "version": 3
   },
   "file_extension": ".py",
   "mimetype": "text/x-python",
   "name": "python",
   "nbconvert_exporter": "python",
   "pygments_lexer": "ipython3",
   "version": "3.9.16"
  },
  "orig_nbformat": 4
 },
 "nbformat": 4,
 "nbformat_minor": 2
}
