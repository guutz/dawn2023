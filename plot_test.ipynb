{
 "cells": [
  {
   "cell_type": "code",
   "execution_count": 3,
   "metadata": {},
   "outputs": [],
   "source": [
    "import numpy as np\n",
    "import pandas as pd\n",
    "import matplotlib.pyplot as plt\n",
    "import bokeh.layouts as bkl\n",
    "import bokeh.plotting as bk\n",
    "import bokeh.transform as btr\n",
    "from bokeh.models import *\n",
    "from bokeh.palettes import *"
   ]
  },
  {
   "cell_type": "code",
   "execution_count": 32,
   "metadata": {},
   "outputs": [
    {
     "data": {
      "text/html": [
       "<style>\n",
       "        .bk-notebook-logo {\n",
       "            display: block;\n",
       "            width: 20px;\n",
       "            height: 20px;\n",
       "            background-image: url(data:image/png;base64,iVBORw0KGgoAAAANSUhEUgAAABQAAAAUCAYAAACNiR0NAAAABHNCSVQICAgIfAhkiAAAAAlwSFlzAAALEgAACxIB0t1+/AAAABx0RVh0U29mdHdhcmUAQWRvYmUgRmlyZXdvcmtzIENTNui8sowAAAOkSURBVDiNjZRtaJVlGMd/1/08zzln5zjP1LWcU9N0NkN8m2CYjpgQYQXqSs0I84OLIC0hkEKoPtiH3gmKoiJDU7QpLgoLjLIQCpEsNJ1vqUOdO7ppbuec5+V+rj4ctwzd8IIbbi6u+8f1539dt3A78eXC7QizUF7gyV1fD1Yqg4JWz84yffhm0qkFqBogB9rM8tZdtwVsPUhWhGcFJngGeWrPzHm5oaMmkfEg1usvLFyc8jLRqDOMru7AyC8saQr7GG7f5fvDeH7Ej8CM66nIF+8yngt6HWaKh7k49Soy9nXurCi1o3qUbS3zWfrYeQDTB/Qj6kX6Ybhw4B+bOYoLKCC9H3Nu/leUTZ1JdRWkkn2ldcCamzrcf47KKXdAJllSlxAOkRgyHsGC/zRday5Qld9DyoM4/q/rUoy/CXh3jzOu3bHUVZeU+DEn8FInkPBFlu3+nW3Nw0mk6vCDiWg8CeJaxEwuHS3+z5RgY+YBR6V1Z1nxSOfoaPa4LASWxxdNp+VWTk7+4vzaou8v8PN+xo+KY2xsw6une2frhw05CTYOmQvsEhjhWjn0bmXPjpE1+kplmmkP3suftwTubK9Vq22qKmrBhpY4jvd5afdRA3wGjFAgcnTK2s4hY0/GPNIb0nErGMCRxWOOX64Z8RAC4oCXdklmEvcL8o0BfkNK4lUg9HTl+oPlQxdNo3Mg4Nv175e/1LDGzZen30MEjRUtmXSfiTVu1kK8W4txyV6BMKlbgk3lMwYCiusNy9fVfvvwMxv8Ynl6vxoByANLTWplvuj/nF9m2+PDtt1eiHPBr1oIfhCChQMBw6Aw0UulqTKZdfVvfG7VcfIqLG9bcldL/+pdWTLxLUy8Qq38heUIjh4XlzZxzQm19lLFlr8vdQ97rjZVOLf8nclzckbcD4wxXMidpX30sFd37Fv/GtwwhzhxGVAprjbg0gCAEeIgwCZyTV2Z1REEW8O4py0wsjeloKoMr6iCY6dP92H6Vw/oTyICIthibxjm/DfN9lVz8IqtqKYLUXfoKVMVQVVJOElGjrnnUt9T9wbgp8AyYKaGlqingHZU/uG2NTZSVqwHQTWkx9hxjkpWDaCg6Ckj5qebgBVbT3V3NNXMSiWSDdGV3hrtzla7J+duwPOToIg42ChPQOQjspnSlp1V+Gjdged7+8UN5CRAV7a5EdFNwCjEaBR27b3W890TE7g24NAP/mMDXRWrGoFPQI9ls/MWO2dWFAar/xcOIImbbpA3zgAAAABJRU5ErkJggg==);\n",
       "        }\n",
       "    </style>\n",
       "    <div>\n",
       "        <a href=\"https://bokeh.org\" target=\"_blank\" class=\"bk-notebook-logo\"></a>\n",
       "        <span id=\"d3ec3094-2127-4c13-b5de-5de1d1f42bb7\">Loading BokehJS ...</span>\n",
       "    </div>\n"
      ]
     },
     "metadata": {},
     "output_type": "display_data"
    },
    {
     "data": {
      "application/javascript": "(function(root) {\n  function now() {\n    return new Date();\n  }\n\n  const force = true;\n\n  if (typeof root._bokeh_onload_callbacks === \"undefined\" || force === true) {\n    root._bokeh_onload_callbacks = [];\n    root._bokeh_is_loading = undefined;\n  }\n\nconst JS_MIME_TYPE = 'application/javascript';\n  const HTML_MIME_TYPE = 'text/html';\n  const EXEC_MIME_TYPE = 'application/vnd.bokehjs_exec.v0+json';\n  const CLASS_NAME = 'output_bokeh rendered_html';\n\n  /**\n   * Render data to the DOM node\n   */\n  function render(props, node) {\n    const script = document.createElement(\"script\");\n    node.appendChild(script);\n  }\n\n  /**\n   * Handle when an output is cleared or removed\n   */\n  function handleClearOutput(event, handle) {\n    const cell = handle.cell;\n\n    const id = cell.output_area._bokeh_element_id;\n    const server_id = cell.output_area._bokeh_server_id;\n    // Clean up Bokeh references\n    if (id != null && id in Bokeh.index) {\n      Bokeh.index[id].model.document.clear();\n      delete Bokeh.index[id];\n    }\n\n    if (server_id !== undefined) {\n      // Clean up Bokeh references\n      const cmd_clean = \"from bokeh.io.state import curstate; print(curstate().uuid_to_server['\" + server_id + \"'].get_sessions()[0].document.roots[0]._id)\";\n      cell.notebook.kernel.execute(cmd_clean, {\n        iopub: {\n          output: function(msg) {\n            const id = msg.content.text.trim();\n            if (id in Bokeh.index) {\n              Bokeh.index[id].model.document.clear();\n              delete Bokeh.index[id];\n            }\n          }\n        }\n      });\n      // Destroy server and session\n      const cmd_destroy = \"import bokeh.io.notebook as ion; ion.destroy_server('\" + server_id + \"')\";\n      cell.notebook.kernel.execute(cmd_destroy);\n    }\n  }\n\n  /**\n   * Handle when a new output is added\n   */\n  function handleAddOutput(event, handle) {\n    const output_area = handle.output_area;\n    const output = handle.output;\n\n    // limit handleAddOutput to display_data with EXEC_MIME_TYPE content only\n    if ((output.output_type != \"display_data\") || (!Object.prototype.hasOwnProperty.call(output.data, EXEC_MIME_TYPE))) {\n      return\n    }\n\n    const toinsert = output_area.element.find(\".\" + CLASS_NAME.split(' ')[0]);\n\n    if (output.metadata[EXEC_MIME_TYPE][\"id\"] !== undefined) {\n      toinsert[toinsert.length - 1].firstChild.textContent = output.data[JS_MIME_TYPE];\n      // store reference to embed id on output_area\n      output_area._bokeh_element_id = output.metadata[EXEC_MIME_TYPE][\"id\"];\n    }\n    if (output.metadata[EXEC_MIME_TYPE][\"server_id\"] !== undefined) {\n      const bk_div = document.createElement(\"div\");\n      bk_div.innerHTML = output.data[HTML_MIME_TYPE];\n      const script_attrs = bk_div.children[0].attributes;\n      for (let i = 0; i < script_attrs.length; i++) {\n        toinsert[toinsert.length - 1].firstChild.setAttribute(script_attrs[i].name, script_attrs[i].value);\n        toinsert[toinsert.length - 1].firstChild.textContent = bk_div.children[0].textContent\n      }\n      // store reference to server id on output_area\n      output_area._bokeh_server_id = output.metadata[EXEC_MIME_TYPE][\"server_id\"];\n    }\n  }\n\n  function register_renderer(events, OutputArea) {\n\n    function append_mime(data, metadata, element) {\n      // create a DOM node to render to\n      const toinsert = this.create_output_subarea(\n        metadata,\n        CLASS_NAME,\n        EXEC_MIME_TYPE\n      );\n      this.keyboard_manager.register_events(toinsert);\n      // Render to node\n      const props = {data: data, metadata: metadata[EXEC_MIME_TYPE]};\n      render(props, toinsert[toinsert.length - 1]);\n      element.append(toinsert);\n      return toinsert\n    }\n\n    /* Handle when an output is cleared or removed */\n    events.on('clear_output.CodeCell', handleClearOutput);\n    events.on('delete.Cell', handleClearOutput);\n\n    /* Handle when a new output is added */\n    events.on('output_added.OutputArea', handleAddOutput);\n\n    /**\n     * Register the mime type and append_mime function with output_area\n     */\n    OutputArea.prototype.register_mime_type(EXEC_MIME_TYPE, append_mime, {\n      /* Is output safe? */\n      safe: true,\n      /* Index of renderer in `output_area.display_order` */\n      index: 0\n    });\n  }\n\n  // register the mime type if in Jupyter Notebook environment and previously unregistered\n  if (root.Jupyter !== undefined) {\n    const events = require('base/js/events');\n    const OutputArea = require('notebook/js/outputarea').OutputArea;\n\n    if (OutputArea.prototype.mime_types().indexOf(EXEC_MIME_TYPE) == -1) {\n      register_renderer(events, OutputArea);\n    }\n  }\n  if (typeof (root._bokeh_timeout) === \"undefined\" || force === true) {\n    root._bokeh_timeout = Date.now() + 5000;\n    root._bokeh_failed_load = false;\n  }\n\n  const NB_LOAD_WARNING = {'data': {'text/html':\n     \"<div style='background-color: #fdd'>\\n\"+\n     \"<p>\\n\"+\n     \"BokehJS does not appear to have successfully loaded. If loading BokehJS from CDN, this \\n\"+\n     \"may be due to a slow or bad network connection. Possible fixes:\\n\"+\n     \"</p>\\n\"+\n     \"<ul>\\n\"+\n     \"<li>re-rerun `output_notebook()` to attempt to load from CDN again, or</li>\\n\"+\n     \"<li>use INLINE resources instead, as so:</li>\\n\"+\n     \"</ul>\\n\"+\n     \"<code>\\n\"+\n     \"from bokeh.resources import INLINE\\n\"+\n     \"output_notebook(resources=INLINE)\\n\"+\n     \"</code>\\n\"+\n     \"</div>\"}};\n\n  function display_loaded() {\n    const el = document.getElementById(\"d3ec3094-2127-4c13-b5de-5de1d1f42bb7\");\n    if (el != null) {\n      el.textContent = \"BokehJS is loading...\";\n    }\n    if (root.Bokeh !== undefined) {\n      if (el != null) {\n        el.textContent = \"BokehJS \" + root.Bokeh.version + \" successfully loaded.\";\n      }\n    } else if (Date.now() < root._bokeh_timeout) {\n      setTimeout(display_loaded, 100)\n    }\n  }\n\n  function run_callbacks() {\n    try {\n      root._bokeh_onload_callbacks.forEach(function(callback) {\n        if (callback != null)\n          callback();\n      });\n    } finally {\n      delete root._bokeh_onload_callbacks\n    }\n    console.debug(\"Bokeh: all callbacks have finished\");\n  }\n\n  function load_libs(css_urls, js_urls, callback) {\n    if (css_urls == null) css_urls = [];\n    if (js_urls == null) js_urls = [];\n\n    root._bokeh_onload_callbacks.push(callback);\n    if (root._bokeh_is_loading > 0) {\n      console.debug(\"Bokeh: BokehJS is being loaded, scheduling callback at\", now());\n      return null;\n    }\n    if (js_urls == null || js_urls.length === 0) {\n      run_callbacks();\n      return null;\n    }\n    console.debug(\"Bokeh: BokehJS not loaded, scheduling load and callback at\", now());\n    root._bokeh_is_loading = css_urls.length + js_urls.length;\n\n    function on_load() {\n      root._bokeh_is_loading--;\n      if (root._bokeh_is_loading === 0) {\n        console.debug(\"Bokeh: all BokehJS libraries/stylesheets loaded\");\n        run_callbacks()\n      }\n    }\n\n    function on_error(url) {\n      console.error(\"failed to load \" + url);\n    }\n\n    for (let i = 0; i < css_urls.length; i++) {\n      const url = css_urls[i];\n      const element = document.createElement(\"link\");\n      element.onload = on_load;\n      element.onerror = on_error.bind(null, url);\n      element.rel = \"stylesheet\";\n      element.type = \"text/css\";\n      element.href = url;\n      console.debug(\"Bokeh: injecting link tag for BokehJS stylesheet: \", url);\n      document.body.appendChild(element);\n    }\n\n    for (let i = 0; i < js_urls.length; i++) {\n      const url = js_urls[i];\n      const element = document.createElement('script');\n      element.onload = on_load;\n      element.onerror = on_error.bind(null, url);\n      element.async = false;\n      element.src = url;\n      console.debug(\"Bokeh: injecting script tag for BokehJS library: \", url);\n      document.head.appendChild(element);\n    }\n  };\n\n  function inject_raw_css(css) {\n    const element = document.createElement(\"style\");\n    element.appendChild(document.createTextNode(css));\n    document.body.appendChild(element);\n  }\n\n  const js_urls = [\"https://cdn.bokeh.org/bokeh/release/bokeh-3.1.1.min.js\", \"https://cdn.bokeh.org/bokeh/release/bokeh-gl-3.1.1.min.js\", \"https://cdn.bokeh.org/bokeh/release/bokeh-widgets-3.1.1.min.js\", \"https://cdn.bokeh.org/bokeh/release/bokeh-tables-3.1.1.min.js\", \"https://cdn.bokeh.org/bokeh/release/bokeh-mathjax-3.1.1.min.js\"];\n  const css_urls = [];\n\n  const inline_js = [    function(Bokeh) {\n      Bokeh.set_log_level(\"info\");\n    },\nfunction(Bokeh) {\n    }\n  ];\n\n  function run_inline_js() {\n    if (root.Bokeh !== undefined || force === true) {\n          for (let i = 0; i < inline_js.length; i++) {\n      inline_js[i].call(root, root.Bokeh);\n    }\nif (force === true) {\n        display_loaded();\n      }} else if (Date.now() < root._bokeh_timeout) {\n      setTimeout(run_inline_js, 100);\n    } else if (!root._bokeh_failed_load) {\n      console.log(\"Bokeh: BokehJS failed to load within specified timeout.\");\n      root._bokeh_failed_load = true;\n    } else if (force !== true) {\n      const cell = $(document.getElementById(\"d3ec3094-2127-4c13-b5de-5de1d1f42bb7\")).parents('.cell').data().cell;\n      cell.output_area.append_execute_result(NB_LOAD_WARNING)\n    }\n  }\n\n  if (root._bokeh_is_loading === 0) {\n    console.debug(\"Bokeh: BokehJS loaded, going straight to plotting\");\n    run_inline_js();\n  } else {\n    load_libs(css_urls, js_urls, function() {\n      console.debug(\"Bokeh: BokehJS plotting callback run at\", now());\n      run_inline_js();\n    });\n  }\n}(window));",
      "application/vnd.bokehjs_load.v0+json": ""
     },
     "metadata": {},
     "output_type": "display_data"
    },
    {
     "data": {
      "text/html": [
       "\n",
       "  <div id=\"adf47f5f-2df1-4bd1-a487-ef2fa93fb01d\" data-root-id=\"p10095\" style=\"display: contents;\"></div>\n"
      ]
     },
     "metadata": {},
     "output_type": "display_data"
    },
    {
     "data": {
      "application/javascript": "(function(root) {\n  function embed_document(root) {\n  const docs_json = {\"d77a3b4e-3168-4fb7-8494-f1bc0dd8db35\":{\"version\":\"3.1.1\",\"title\":\"Bokeh Application\",\"defs\":[],\"roots\":[{\"type\":\"object\",\"name\":\"GridPlot\",\"id\":\"p10095\",\"attributes\":{\"rows\":null,\"cols\":null,\"toolbar\":{\"type\":\"object\",\"name\":\"Toolbar\",\"id\":\"p10094\",\"attributes\":{\"tools\":[{\"type\":\"object\",\"name\":\"CopyTool\",\"id\":\"p10093\"},{\"type\":\"object\",\"name\":\"HoverTool\",\"id\":\"p10016\",\"attributes\":{\"renderers\":\"auto\",\"tooltips\":\"<div><div><span style=\\\"font-size: 15px; font-weight: bold;\\\">attr1: @attr1</span></div><div><span style=\\\"font-size: 15px; font-weight: bold;\\\">attr2: @attr2</span></div></div>\"}},{\"type\":\"object\",\"name\":\"LassoSelectTool\",\"id\":\"p10017\",\"attributes\":{\"renderers\":\"auto\",\"overlay\":{\"type\":\"object\",\"name\":\"PolyAnnotation\",\"id\":\"p10018\",\"attributes\":{\"syncable\":false,\"level\":\"overlay\",\"visible\":false,\"xs\":[],\"ys\":[],\"editable\":true,\"line_color\":\"black\",\"line_alpha\":1.0,\"line_width\":2,\"line_dash\":[4,4],\"fill_color\":\"lightgrey\",\"fill_alpha\":0.5}}}}]}},\"toolbar_location\":\"below\",\"children\":[[{\"type\":\"object\",\"name\":\"Select\",\"id\":\"p10014\",\"attributes\":{\"js_property_callbacks\":{\"type\":\"map\",\"entries\":[[\"change:value\",[{\"type\":\"object\",\"name\":\"CustomJS\",\"id\":\"p10070\",\"attributes\":{\"args\":{\"type\":\"map\",\"entries\":[[\"plotPoints\",{\"type\":\"object\",\"name\":\"GlyphRenderer\",\"id\":\"p10065\",\"attributes\":{\"data_source\":{\"type\":\"object\",\"name\":\"ColumnDataSource\",\"id\":\"p10056\",\"attributes\":{\"selected\":{\"type\":\"object\",\"name\":\"Selection\",\"id\":\"p10057\",\"attributes\":{\"indices\":[],\"line_indices\":[]}},\"selection_policy\":{\"type\":\"object\",\"name\":\"UnionRenderers\",\"id\":\"p10058\"},\"data\":{\"type\":\"map\",\"entries\":[[\"index\",{\"type\":\"ndarray\",\"array\":{\"type\":\"bytes\",\"data\":\"AAAAAAEAAAACAAAAAwAAAAQAAAAFAAAABgAAAAcAAAAIAAAACQAAAAoAAAALAAAADAAAAA0AAAAOAAAADwAAABAAAAARAAAAEgAAABMAAAAUAAAAFQAAABYAAAAXAAAAGAAAABkAAAAaAAAAGwAAABwAAAAdAAAAHgAAAB8AAAAgAAAAIQAAACIAAAAjAAAAJAAAACUAAAAmAAAAJwAAACgAAAApAAAAKgAAACsAAAAsAAAALQAAAC4AAAAvAAAAMAAAADEAAAAyAAAAMwAAADQAAAA1AAAANgAAADcAAAA4AAAAOQAAADoAAAA7AAAAPAAAAD0AAAA+AAAAPwAAAEAAAABBAAAAQgAAAEMAAABEAAAARQAAAEYAAABHAAAASAAAAEkAAABKAAAASwAAAEwAAABNAAAATgAAAE8AAABQAAAAUQAAAFIAAABTAAAAVAAAAFUAAABWAAAAVwAAAFgAAABZAAAAWgAAAFsAAABcAAAAXQAAAF4AAABfAAAAYAAAAGEAAABiAAAAYwAAAA==\"},\"shape\":[100],\"dtype\":\"int32\",\"order\":\"little\"}],[\"x\",{\"type\":\"ndarray\",\"array\":{\"type\":\"bytes\",\"data\":\"HZ6AlIRZ6z+wNz7HFUHuPzCmSrBnK7M/cC1nia9fsD/IEO6tH321P6M02z5wjeU/3YrLc3v74z/a5x1d0Q7dP9aQXPmHkNI/x9N+n9xU7T/QyXCJym6oPzxbAf4o7eo/oOPHgfd9rz/vcUDyvxfrP9QPrjDpwuM/bvBK48QZ1D84IhyazPThP67dqdf9Fus/CHe4tZVs4T+ao0D5qSPZP5iYMY9kssU/8IOllQ/6vD/8o/3FUzXdP+CNwlzxsME/eAjPtOWx4z+vCjcAf4PvP71A+dbDluM/vuPy4CNm7T/k8i4UjdfMPy8ptLQfJOw/kjtdZ0EH4z9gdv6liA3nP6Q4nvhant0/9EyZc6DeyD+stjn+tBzsPwKSHVjvzeQ/POpB6vQswD+WHb9Dll/iPxgIZ6BM+us/sKhymM2cyT+DkHiWNWjkP4gFye/dHcU/l8G0I7Mb4T9Fy1MMN4btP9geFVokC74/6tliYrEv2T8Y9F0sb7raPxoOfByhfto/3JkzrgIP4T8r5s3MpunpP5/iHqlkLu0/Lqvg19j+2z94FEMIGwPoPxrVhZa/jdQ/YFXAnHff1D/HAzntQaDvPzgqi+cCh+k/QMXpKpDX3j9jj2pCxo/hP8eVC0QTyeQ/642UIxut7z+A80Ifa96NP6H1XVc7jOM/lOa9ykJC2T+bb/NXPvjiP8h2y01kobk/soO0mLg24D/ItBerce/aP1bf1SE/oOo/gKtpZ88M7T+2vr4R5NjUP2q6u/wZ+NY/gQI5J0ba7D82VyWtz4vmP3Ze48TtwuY/AOGShV1ocj9irF1WGd7hPxNKzYt8GOs/qjXCAKMl6j+8aHBv+dHOP9CkG9aBH9k/xOkhNHJCyD8EXYvEV/zfP9WjqrJUveA/h/JdHUm/4j/oPt8rLDjBP4C4DPXpBIo/j4qSX07d6T80EgzM2UrcPyAVaRSZfJ4/E5j50TAL6D8Y/ieUga6zPxALu/wejb4/4G+/U7wqsT8A1uhvi+XTP76TC218r9I/EubrGqxM4T/C6fA+3wPgPyIv2MwOn9I/vBruOzem1z8=\"},\"shape\":[100],\"dtype\":\"float64\",\"order\":\"little\"}],[\"y\",{\"type\":\"ndarray\",\"array\":{\"type\":\"bytes\",\"data\":\"sm1AfHAq5T+I7yM+gnzqPwC2Yh7ENts/V86ldX2X4T+ZABH9BPjkP8usx473S+k/ls1MZGKX0j/8A9WkSefRPyyOOPkORc4/BC7tujLr7z/Y91jPNBXmP5ptvCmNbN4/8xSLFX837j8ogql5mEHBPzbIz9GBYdI/uICFJpK83D+8lqoUL/ntP/Dh1Vlas8E/0PWeiBN+6j+/EcZsgr/lP/zw8f/vn+Y/QJ3s96zxhD8EHUKhOnLBP0DGsMUmie0/DKcCfbaDyj8cH/Y3pZDQP8BRZGl2BNs/UsIgEp1u7T+A2akroey4P6xAVCuY2+A/0A6nPLEF6z8uNYPXW9PUP2AOFbDMl9A/Osk1kZCi5j+XkXCIa3nrP3Y8dLW2Bdk/rsx3HRxx5T/Gu2urXdrqPyb+Pt+vgt8/bGVaIm9l6T+nebfxiZDpP+LHQu74hOA/BDIKpX337z9h2NwSpXjhP0o/Qek5peM/DbMZoHZF7D8WxyO8NQrqP6gLUSjrD9s/KCF64IyQxj+fkqGOSVHgP+D0nvgn1Lk/mjTYiJR24z982WOnXY7gP5BN01tmm7k/xuE2nWij4z8HnpozwOPmP6OTdvbSJug/kS86cqIo6D/olu0PK1PaP1Dtolrgorw/YOq6gJlO7z8g3xwGFY+WP3bW1bWu1+M/ZteEr3Hp3T+wxSWrQcHbP6gxaHdepe0/8JflvMXptj8AXQk2xKJ8P9SPFXv3wN0/BFAQ/xXuzD8wVoM6n6jFP3wUGkDbj8M/plHxHQAG1j9gY3cDXq/gP+em+kkdtO0/xj2Qdsk43D+SoMqFqLjfP4DlBLC7yaY/ZDY0cSjg5j+4uqSKMTzlP3dmCga1sO0/2jOArN6B7D/+3/ck7qfeP0AIg5+zMbc/DEC6hsKT6j+fzhE1k9nvP/rzqgdBTuM/NY0EjcdH6T8CSIQcgfTnP6hrpOQAHtU/gHW1AhNjwz/k3TrA1jTSPxjMASgbZ8g/S+a5KqPu4z84o7z0wcu/PxgmiamIduc/ts7jt13q0T+ukcbRnDTjP7NGvXwMguk/kp0ThrOX7j8=\"},\"shape\":[100],\"dtype\":\"float64\",\"order\":\"little\"}],[\"attr1\",{\"type\":\"ndarray\",\"array\":[\"a\",\"a\",\"a\",\"a\",\"b\",\"b\",\"c\",\"c\",\"b\",\"c\",\"a\",\"a\",\"c\",\"a\",\"a\",\"b\",\"a\",\"c\",\"b\",\"c\",\"b\",\"a\",\"c\",\"a\",\"c\",\"b\",\"b\",\"a\",\"a\",\"a\",\"a\",\"c\",\"c\",\"c\",\"b\",\"b\",\"a\",\"a\",\"a\",\"a\",\"c\",\"c\",\"a\",\"a\",\"c\",\"a\",\"a\",\"c\",\"c\",\"b\",\"c\",\"c\",\"c\",\"a\",\"c\",\"a\",\"b\",\"c\",\"a\",\"a\",\"c\",\"b\",\"c\",\"c\",\"b\",\"b\",\"c\",\"c\",\"c\",\"b\",\"c\",\"b\",\"c\",\"b\",\"a\",\"b\",\"a\",\"b\",\"a\",\"c\",\"c\",\"a\",\"b\",\"c\",\"c\",\"c\",\"c\",\"b\",\"c\",\"a\",\"a\",\"b\",\"b\",\"c\",\"c\",\"a\",\"c\",\"a\",\"c\",\"c\"],\"shape\":[100],\"dtype\":\"object\",\"order\":\"little\"}],[\"attr2\",{\"type\":\"ndarray\",\"array\":{\"type\":\"bytes\",\"data\":\"TAAAAE0AAAAmAAAAFwAAAAEAAAAVAAAAEgAAAEMAAABEAAAALwAAABQAAAAXAAAAYwAAAA4AAAA1AAAAWwAAAEsAAABPAAAASgAAAC0AAABCAAAADQAAAE0AAABdAAAAEQAAAFMAAAA4AAAAAwAAAD8AAABjAAAAYQAAAFEAAAA2AAAAOQAAAA4AAABQAAAAMAAAACoAAABOAAAAGAAAAFkAAABTAAAALwAAAAgAAAAkAAAABAAAAFMAAAA4AAAAWAAAACcAAAAfAAAAJwAAAD0AAAA+AAAAEgAAABMAAABAAAAAHQAAACgAAAAZAAAABQAAAD4AAAAuAAAAQgAAAEsAAAARAAAAYAAAAAwAAAAIAAAARgAAAB8AAAAjAAAALwAAAEYAAAAWAAAASQAAADEAAAAhAAAAQQAAACsAAAAhAAAAEwAAAAUAAAA5AAAACwAAAF8AAABFAAAASAAAAGAAAAAbAAAAVgAAAEQAAAAUAAAAMwAAAEQAAAAOAAAAHAAAAEEAAABXAAAAJQAAAA==\"},\"shape\":[100],\"dtype\":\"int32\",\"order\":\"little\"}]]}}},\"view\":{\"type\":\"object\",\"name\":\"CDSView\",\"id\":\"p10066\",\"attributes\":{\"filter\":{\"type\":\"object\",\"name\":\"AllIndices\",\"id\":\"p10067\"}}},\"glyph\":{\"type\":\"object\",\"name\":\"Circle\",\"id\":\"p10062\",\"attributes\":{\"x\":{\"type\":\"field\",\"field\":\"x\"},\"y\":{\"type\":\"field\",\"field\":\"y\"},\"size\":{\"type\":\"value\",\"value\":7},\"line_width\":{\"type\":\"value\",\"value\":0.25},\"fill_color\":{\"type\":\"field\",\"field\":\"attr1\",\"transform\":{\"type\":\"object\",\"name\":\"CategoricalColorMapper\",\"id\":\"p10012\",\"attributes\":{\"palette\":[[127,0,255,1.0],[128,254,179,1.0],[255,0,0,1.0]],\"factors\":[\"b\",\"c\",\"a\"]}}},\"fill_alpha\":{\"type\":\"value\",\"value\":0.7}}},\"nonselection_glyph\":{\"type\":\"object\",\"name\":\"Circle\",\"id\":\"p10063\",\"attributes\":{\"x\":{\"type\":\"field\",\"field\":\"x\"},\"y\":{\"type\":\"field\",\"field\":\"y\"},\"size\":{\"type\":\"value\",\"value\":7},\"line_alpha\":{\"type\":\"value\",\"value\":0.1},\"line_width\":{\"type\":\"value\",\"value\":0.25},\"fill_color\":{\"type\":\"field\",\"field\":\"attr1\",\"transform\":{\"id\":\"p10012\"}},\"fill_alpha\":{\"type\":\"value\",\"value\":0.1},\"hatch_alpha\":{\"type\":\"value\",\"value\":0.1}}},\"muted_glyph\":{\"type\":\"object\",\"name\":\"Circle\",\"id\":\"p10064\",\"attributes\":{\"x\":{\"type\":\"field\",\"field\":\"x\"},\"y\":{\"type\":\"field\",\"field\":\"y\"},\"size\":{\"type\":\"value\",\"value\":7},\"line_alpha\":{\"type\":\"value\",\"value\":0.2},\"line_width\":{\"type\":\"value\",\"value\":0.25},\"fill_color\":{\"type\":\"field\",\"field\":\"attr1\",\"transform\":{\"id\":\"p10012\"}},\"fill_alpha\":{\"type\":\"value\",\"value\":0.2},\"hatch_alpha\":{\"type\":\"value\",\"value\":0.2}}}}}],[\"color_maps\",{\"type\":\"map\",\"entries\":[[\"attr1\",{\"type\":\"field\",\"field\":\"attr1\",\"transform\":{\"id\":\"p10012\"}}],[\"attr2\",{\"type\":\"field\",\"field\":\"attr2\",\"transform\":{\"type\":\"object\",\"name\":\"LinearColorMapper\",\"id\":\"p10013\",\"attributes\":{\"palette\":[[127,0,255,1.0],[127,0,255,1.0],[127,0,255,1.0],[125,3,254,1.0],[125,3,254,1.0],[123,6,254,1.0],[123,6,254,1.0],[123,6,254,1.0],[121,9,254,1.0],[121,9,254,1.0],[119,12,254,1.0],[119,12,254,1.0],[117,15,254,1.0],[117,15,254,1.0],[117,15,254,1.0],[115,18,254,1.0],[115,18,254,1.0],[113,21,254,1.0],[113,21,254,1.0],[111,25,254,1.0],[111,25,254,1.0],[111,25,254,1.0],[109,28,254,1.0],[109,28,254,1.0],[107,31,254,1.0],[107,31,254,1.0],[105,34,254,1.0],[105,34,254,1.0],[105,34,254,1.0],[103,37,254,1.0],[103,37,254,1.0],[101,40,254,1.0],[101,40,254,1.0],[99,43,254,1.0],[99,43,254,1.0],[99,43,254,1.0],[97,46,253,1.0],[97,46,253,1.0],[95,49,253,1.0],[95,49,253,1.0],[93,53,253,1.0],[93,53,253,1.0],[93,53,253,1.0],[91,56,253,1.0],[91,56,253,1.0],[89,59,253,1.0],[89,59,253,1.0],[87,62,253,1.0],[87,62,253,1.0],[87,62,253,1.0],[85,65,252,1.0],[85,65,252,1.0],[83,68,252,1.0],[83,68,252,1.0],[81,71,252,1.0],[81,71,252,1.0],[81,71,252,1.0],[79,74,252,1.0],[79,74,252,1.0],[77,77,251,1.0],[77,77,251,1.0],[75,80,251,1.0],[75,80,251,1.0],[75,80,251,1.0],[73,83,251,1.0],[73,83,251,1.0],[71,86,251,1.0],[71,86,251,1.0],[69,89,250,1.0],[69,89,250,1.0],[69,89,250,1.0],[67,92,250,1.0],[67,92,250,1.0],[65,95,250,1.0],[65,95,250,1.0],[63,97,250,1.0],[63,97,250,1.0],[63,97,250,1.0],[61,100,249,1.0],[61,100,249,1.0],[59,103,249,1.0],[59,103,249,1.0],[57,106,249,1.0],[57,106,249,1.0],[57,106,249,1.0],[55,109,248,1.0],[55,109,248,1.0],[53,112,248,1.0],[53,112,248,1.0],[51,115,248,1.0],[51,115,248,1.0],[51,115,248,1.0],[49,117,247,1.0],[49,117,247,1.0],[47,120,247,1.0],[47,120,247,1.0],[45,123,246,1.0],[45,123,246,1.0],[45,123,246,1.0],[43,126,246,1.0],[43,126,246,1.0],[41,128,246,1.0],[41,128,246,1.0],[39,131,245,1.0],[39,131,245,1.0],[39,131,245,1.0],[37,134,245,1.0],[37,134,245,1.0],[35,136,244,1.0],[35,136,244,1.0],[33,139,244,1.0],[33,139,244,1.0],[33,139,244,1.0],[31,142,243,1.0],[31,142,243,1.0],[29,144,243,1.0],[29,144,243,1.0],[27,147,243,1.0],[27,147,243,1.0],[27,147,243,1.0],[25,149,242,1.0],[25,149,242,1.0],[23,152,242,1.0],[23,152,242,1.0],[23,152,242,1.0],[21,154,241,1.0],[21,154,241,1.0],[19,157,241,1.0],[19,157,241,1.0],[17,159,240,1.0],[17,159,240,1.0],[17,159,240,1.0],[15,162,239,1.0],[15,162,239,1.0],[13,164,239,1.0],[13,164,239,1.0],[11,167,238,1.0],[11,167,238,1.0],[11,167,238,1.0],[9,169,238,1.0],[9,169,238,1.0],[7,171,237,1.0],[7,171,237,1.0],[5,174,237,1.0],[5,174,237,1.0],[5,174,237,1.0],[3,176,236,1.0],[3,176,236,1.0],[1,178,236,1.0],[1,178,236,1.0],[0,180,235,1.0],[0,180,235,1.0],[0,180,235,1.0],[2,183,234,1.0],[2,183,234,1.0],[4,185,234,1.0],[4,185,234,1.0],[6,187,233,1.0],[6,187,233,1.0],[6,187,233,1.0],[8,189,232,1.0],[8,189,232,1.0],[10,191,232,1.0],[10,191,232,1.0],[12,193,231,1.0],[12,193,231,1.0],[12,193,231,1.0],[14,195,230,1.0],[14,195,230,1.0],[16,197,230,1.0],[16,197,230,1.0],[18,199,229,1.0],[18,199,229,1.0],[18,199,229,1.0],[20,201,228,1.0],[20,201,228,1.0],[22,203,228,1.0],[22,203,228,1.0],[24,205,227,1.0],[24,205,227,1.0],[24,205,227,1.0],[26,207,226,1.0],[26,207,226,1.0],[28,209,226,1.0],[28,209,226,1.0],[30,210,225,1.0],[30,210,225,1.0],[30,210,225,1.0],[32,212,224,1.0],[32,212,224,1.0],[34,214,223,1.0],[34,214,223,1.0],[36,215,223,1.0],[36,215,223,1.0],[36,215,223,1.0],[38,217,222,1.0],[38,217,222,1.0],[40,219,221,1.0],[40,219,221,1.0],[42,220,220,1.0],[42,220,220,1.0],[42,220,220,1.0],[44,222,220,1.0],[44,222,220,1.0],[46,223,219,1.0],[46,223,219,1.0],[48,225,218,1.0],[48,225,218,1.0],[48,225,218,1.0],[50,226,217,1.0],[50,226,217,1.0],[52,228,216,1.0],[52,228,216,1.0],[54,229,215,1.0],[54,229,215,1.0],[54,229,215,1.0],[56,230,215,1.0],[56,230,215,1.0],[58,232,214,1.0],[58,232,214,1.0],[60,233,213,1.0],[60,233,213,1.0],[60,233,213,1.0],[62,234,212,1.0],[62,234,212,1.0],[64,236,211,1.0],[64,236,211,1.0],[66,237,210,1.0],[66,237,210,1.0],[66,237,210,1.0],[68,238,209,1.0],[68,238,209,1.0],[70,239,209,1.0],[70,239,209,1.0],[72,240,208,1.0],[72,240,208,1.0],[72,240,208,1.0],[74,241,207,1.0],[74,241,207,1.0],[76,242,206,1.0],[76,242,206,1.0],[76,242,206,1.0],[78,243,205,1.0],[78,243,205,1.0],[80,244,204,1.0],[80,244,204,1.0],[82,245,203,1.0],[82,245,203,1.0],[82,245,203,1.0],[84,246,202,1.0],[84,246,202,1.0],[86,246,201,1.0],[86,246,201,1.0],[88,247,200,1.0],[88,247,200,1.0],[88,247,200,1.0],[90,248,199,1.0],[90,248,199,1.0],[92,249,198,1.0],[92,249,198,1.0],[94,249,197,1.0],[94,249,197,1.0],[94,249,197,1.0],[96,250,196,1.0],[96,250,196,1.0],[98,250,195,1.0],[98,250,195,1.0],[100,251,194,1.0],[100,251,194,1.0],[100,251,194,1.0],[102,251,193,1.0],[102,251,193,1.0],[104,252,192,1.0],[104,252,192,1.0],[106,252,191,1.0],[106,252,191,1.0],[106,252,191,1.0],[108,253,190,1.0],[108,253,190,1.0],[110,253,189,1.0],[110,253,189,1.0],[112,253,188,1.0],[112,253,188,1.0],[112,253,188,1.0],[114,254,187,1.0],[114,254,187,1.0],[116,254,186,1.0],[116,254,186,1.0],[118,254,185,1.0],[118,254,185,1.0],[118,254,185,1.0],[120,254,184,1.0],[120,254,184,1.0],[122,254,183,1.0],[122,254,183,1.0],[124,254,181,1.0],[124,254,181,1.0],[124,254,181,1.0],[126,254,180,1.0],[126,254,180,1.0],[128,254,179,1.0],[128,254,179,1.0],[130,254,178,1.0],[130,254,178,1.0],[130,254,178,1.0],[132,254,177,1.0],[132,254,177,1.0],[134,254,176,1.0],[134,254,176,1.0],[136,254,175,1.0],[136,254,175,1.0],[136,254,175,1.0],[138,254,174,1.0],[138,254,174,1.0],[140,254,172,1.0],[140,254,172,1.0],[142,253,171,1.0],[142,253,171,1.0],[142,253,171,1.0],[144,253,170,1.0],[144,253,170,1.0],[146,253,169,1.0],[146,253,169,1.0],[148,252,168,1.0],[148,252,168,1.0],[148,252,168,1.0],[150,252,167,1.0],[150,252,167,1.0],[152,251,165,1.0],[152,251,165,1.0],[154,251,164,1.0],[154,251,164,1.0],[154,251,164,1.0],[156,250,163,1.0],[156,250,163,1.0],[158,250,162,1.0],[158,250,162,1.0],[160,249,161,1.0],[160,249,161,1.0],[160,249,161,1.0],[162,249,159,1.0],[162,249,159,1.0],[164,248,158,1.0],[164,248,158,1.0],[166,247,157,1.0],[166,247,157,1.0],[166,247,157,1.0],[168,246,156,1.0],[168,246,156,1.0],[170,246,154,1.0],[170,246,154,1.0],[172,245,153,1.0],[172,245,153,1.0],[172,245,153,1.0],[174,244,152,1.0],[174,244,152,1.0],[176,243,151,1.0],[176,243,151,1.0],[178,242,149,1.0],[178,242,149,1.0],[178,242,149,1.0],[180,241,148,1.0],[180,241,148,1.0],[182,240,147,1.0],[182,240,147,1.0],[182,240,147,1.0],[184,239,146,1.0],[184,239,146,1.0],[186,238,144,1.0],[186,238,144,1.0],[188,237,143,1.0],[188,237,143,1.0],[188,237,143,1.0],[190,236,142,1.0],[190,236,142,1.0],[192,234,140,1.0],[192,234,140,1.0],[194,233,139,1.0],[194,233,139,1.0],[194,233,139,1.0],[196,232,138,1.0],[196,232,138,1.0],[198,230,136,1.0],[198,230,136,1.0],[200,229,135,1.0],[200,229,135,1.0],[200,229,135,1.0],[202,228,134,1.0],[202,228,134,1.0],[204,226,132,1.0],[204,226,132,1.0],[206,225,131,1.0],[206,225,131,1.0],[206,225,131,1.0],[208,223,130,1.0],[208,223,130,1.0],[210,222,128,1.0],[210,222,128,1.0],[212,220,127,1.0],[212,220,127,1.0],[212,220,127,1.0],[214,219,126,1.0],[214,219,126,1.0],[216,217,124,1.0],[216,217,124,1.0],[218,215,123,1.0],[218,215,123,1.0],[218,215,123,1.0],[220,214,122,1.0],[220,214,122,1.0],[222,212,120,1.0],[222,212,120,1.0],[224,210,119,1.0],[224,210,119,1.0],[224,210,119,1.0],[226,209,117,1.0],[226,209,117,1.0],[228,207,116,1.0],[228,207,116,1.0],[230,205,115,1.0],[230,205,115,1.0],[230,205,115,1.0],[232,203,113,1.0],[232,203,113,1.0],[234,201,112,1.0],[234,201,112,1.0],[236,199,110,1.0],[236,199,110,1.0],[236,199,110,1.0],[238,197,109,1.0],[238,197,109,1.0],[240,195,108,1.0],[240,195,108,1.0],[242,193,106,1.0],[242,193,106,1.0],[242,193,106,1.0],[244,191,105,1.0],[244,191,105,1.0],[246,189,103,1.0],[246,189,103,1.0],[248,187,102,1.0],[248,187,102,1.0],[248,187,102,1.0],[250,185,100,1.0],[250,185,100,1.0],[252,183,99,1.0],[252,183,99,1.0],[254,180,97,1.0],[254,180,97,1.0],[254,180,97,1.0],[255,178,96,1.0],[255,178,96,1.0],[255,176,95,1.0],[255,176,95,1.0],[255,174,93,1.0],[255,174,93,1.0],[255,174,93,1.0],[255,171,92,1.0],[255,171,92,1.0],[255,169,90,1.0],[255,169,90,1.0],[255,167,89,1.0],[255,167,89,1.0],[255,167,89,1.0],[255,164,87,1.0],[255,164,87,1.0],[255,162,86,1.0],[255,162,86,1.0],[255,159,84,1.0],[255,159,84,1.0],[255,159,84,1.0],[255,157,83,1.0],[255,157,83,1.0],[255,154,81,1.0],[255,154,81,1.0],[255,152,80,1.0],[255,152,80,1.0],[255,152,80,1.0],[255,149,78,1.0],[255,149,78,1.0],[255,147,77,1.0],[255,147,77,1.0],[255,147,77,1.0],[255,144,75,1.0],[255,144,75,1.0],[255,142,74,1.0],[255,142,74,1.0],[255,139,72,1.0],[255,139,72,1.0],[255,139,72,1.0],[255,136,71,1.0],[255,136,71,1.0],[255,134,69,1.0],[255,134,69,1.0],[255,131,68,1.0],[255,131,68,1.0],[255,131,68,1.0],[255,128,66,1.0],[255,128,66,1.0],[255,126,65,1.0],[255,126,65,1.0],[255,123,63,1.0],[255,123,63,1.0],[255,123,63,1.0],[255,120,62,1.0],[255,120,62,1.0],[255,117,60,1.0],[255,117,60,1.0],[255,115,59,1.0],[255,115,59,1.0],[255,115,59,1.0],[255,112,57,1.0],[255,112,57,1.0],[255,109,56,1.0],[255,109,56,1.0],[255,106,54,1.0],[255,106,54,1.0],[255,106,54,1.0],[255,103,53,1.0],[255,103,53,1.0],[255,100,51,1.0],[255,100,51,1.0],[255,97,49,1.0],[255,97,49,1.0],[255,97,49,1.0],[255,95,48,1.0],[255,95,48,1.0],[255,92,46,1.0],[255,92,46,1.0],[255,89,45,1.0],[255,89,45,1.0],[255,89,45,1.0],[255,86,43,1.0],[255,86,43,1.0],[255,83,42,1.0],[255,83,42,1.0],[255,80,40,1.0],[255,80,40,1.0],[255,80,40,1.0],[255,77,39,1.0],[255,77,39,1.0],[255,74,37,1.0],[255,74,37,1.0],[255,71,36,1.0],[255,71,36,1.0],[255,71,36,1.0],[255,68,34,1.0],[255,68,34,1.0],[255,65,32,1.0],[255,65,32,1.0],[255,62,31,1.0],[255,62,31,1.0],[255,62,31,1.0],[255,59,29,1.0],[255,59,29,1.0],[255,56,28,1.0],[255,56,28,1.0],[255,53,26,1.0],[255,53,26,1.0],[255,53,26,1.0],[255,49,25,1.0],[255,49,25,1.0],[255,46,23,1.0],[255,46,23,1.0],[255,43,21,1.0],[255,43,21,1.0],[255,43,21,1.0],[255,40,20,1.0],[255,40,20,1.0],[255,37,18,1.0],[255,37,18,1.0],[255,34,17,1.0],[255,34,17,1.0],[255,34,17,1.0],[255,31,15,1.0],[255,31,15,1.0],[255,28,14,1.0],[255,28,14,1.0],[255,25,12,1.0],[255,25,12,1.0],[255,25,12,1.0],[255,21,10,1.0],[255,21,10,1.0],[255,18,9,1.0],[255,18,9,1.0],[255,15,7,1.0],[255,15,7,1.0],[255,15,7,1.0],[255,12,6,1.0],[255,12,6,1.0],[255,9,4,1.0],[255,9,4,1.0],[255,6,3,1.0],[255,6,3,1.0],[255,6,3,1.0],[255,3,1,1.0],[255,3,1,1.0],[255,0,0,1.0],[255,0,0,1.0],[255,0,0,1.0]],\"low\":1,\"high\":99}}}]]}],[\"colorbar\",{\"type\":\"object\",\"name\":\"ColorBar\",\"id\":\"p10068\",\"attributes\":{\"major_label_policy\":{\"type\":\"object\",\"name\":\"NoOverlap\",\"id\":\"p10069\"},\"padding\":1,\"color_mapper\":{\"id\":\"p10012\"}}}]]},\"code\":\"\\n    const selectedAttr = cb_obj.value;\\n    const colorMapper = color_maps[selectedAttr];\\n    \\n    plotPoints.glyph.fill_color = colorMapper;\\n    colorbar.color_mapper = colorMapper['transform'];\\n    \"}}]]]},\"title\":\"Color by\",\"options\":[\"attr1\",\"attr2\"],\"value\":\"attr1\"}},0,0],[{\"type\":\"object\",\"name\":\"Figure\",\"id\":\"p10019\",\"attributes\":{\"x_range\":{\"type\":\"object\",\"name\":\"DataRange1d\",\"id\":\"p10020\"},\"y_range\":{\"type\":\"object\",\"name\":\"DataRange1d\",\"id\":\"p10021\"},\"x_scale\":{\"type\":\"object\",\"name\":\"LinearScale\",\"id\":\"p10033\"},\"y_scale\":{\"type\":\"object\",\"name\":\"LinearScale\",\"id\":\"p10035\"},\"title\":{\"type\":\"object\",\"name\":\"Title\",\"id\":\"p10022\",\"attributes\":{\"text\":\"Embedding of FRB 1D Time Series FFT (positive real part) with\"}},\"renderers\":[{\"id\":\"p10065\"}],\"toolbar\":{\"type\":\"object\",\"name\":\"Toolbar\",\"id\":\"p10025\",\"attributes\":{\"tools\":[{\"type\":\"object\",\"name\":\"CopyTool\",\"id\":\"p10015\"},{\"id\":\"p10016\"},{\"id\":\"p10017\"}]}},\"toolbar_location\":null,\"left\":[{\"type\":\"object\",\"name\":\"LinearAxis\",\"id\":\"p10044\",\"attributes\":{\"visible\":false,\"ticker\":{\"type\":\"object\",\"name\":\"BasicTicker\",\"id\":\"p10046\",\"attributes\":{\"mantissas\":[1,2,5]}},\"formatter\":{\"type\":\"object\",\"name\":\"BasicTickFormatter\",\"id\":\"p10045\"},\"major_label_policy\":{\"type\":\"object\",\"name\":\"AllLabels\",\"id\":\"p10047\"}}}],\"right\":[{\"id\":\"p10068\"}],\"below\":[{\"type\":\"object\",\"name\":\"LinearAxis\",\"id\":\"p10037\",\"attributes\":{\"visible\":false,\"ticker\":{\"type\":\"object\",\"name\":\"BasicTicker\",\"id\":\"p10039\",\"attributes\":{\"mantissas\":[1,2,5]}},\"formatter\":{\"type\":\"object\",\"name\":\"BasicTickFormatter\",\"id\":\"p10038\"},\"major_label_policy\":{\"type\":\"object\",\"name\":\"AllLabels\",\"id\":\"p10040\"}}}],\"center\":[{\"type\":\"object\",\"name\":\"Grid\",\"id\":\"p10043\",\"attributes\":{\"visible\":false,\"axis\":{\"id\":\"p10037\"}}},{\"type\":\"object\",\"name\":\"Grid\",\"id\":\"p10050\",\"attributes\":{\"visible\":false,\"dimension\":1,\"axis\":{\"id\":\"p10044\"}}}]}},1,0]]}}],\"callbacks\":{\"type\":\"map\"}}};\n  const render_items = [{\"docid\":\"d77a3b4e-3168-4fb7-8494-f1bc0dd8db35\",\"roots\":{\"p10095\":\"adf47f5f-2df1-4bd1-a487-ef2fa93fb01d\"},\"root_ids\":[\"p10095\"]}];\n  root.Bokeh.embed.embed_items_notebook(docs_json, render_items);\n  }\n  if (root.Bokeh !== undefined) {\n    embed_document(root);\n  } else {\n    let attempts = 0;\n    const timer = setInterval(function(root) {\n      if (root.Bokeh !== undefined) {\n        clearInterval(timer);\n        embed_document(root);\n      } else {\n        attempts++;\n        if (attempts > 100) {\n          clearInterval(timer);\n          console.log(\"Bokeh: ERROR: Unable to run BokehJS code because BokehJS library is missing\");\n        }\n      }\n    }, 10, root)\n  }\n})(window);",
      "application/vnd.bokehjs_exec.v0+json": ""
     },
     "metadata": {
      "application/vnd.bokehjs_exec.v0+json": {
       "id": "p10095"
      }
     },
     "output_type": "display_data"
    },
    {
     "name": "stderr",
     "output_type": "stream",
     "text": [
      "/tmp/ipykernel_12576/4156594798.py:80: UserWarning: save() called but no resources were supplied and output_file(...) was never called, defaulting to resources.CDN\n",
      "  bk.save(plot, 'test.html')\n",
      "/tmp/ipykernel_12576/4156594798.py:80: UserWarning: save() called but no title was supplied and output_file(...) was never called, using default title 'Bokeh Plot'\n",
      "  bk.save(plot, 'test.html')\n"
     ]
    },
    {
     "data": {
      "text/plain": [
       "'/home/guutz/dawn/test.html'"
      ]
     },
     "execution_count": 32,
     "metadata": {},
     "output_type": "execute_result"
    }
   ],
   "source": [
    "palette = lambda n: [(int(r), int(g), int(b), a) for r, g, b, a in (plt.get_cmap('rainbow')(np.linspace(0, 1, n)) * [255, 255, 255, 1])]\n",
    "\n",
    "data = {\n",
    "    'xy': {\n",
    "        'data': np.random.rand(100,2),\n",
    "        'umap': True,\n",
    "    },\n",
    "    'attr1': {\n",
    "        'data': np.random.choice(['a', 'b', 'c'], 100),\n",
    "        'color': True,\n",
    "        'tooltip': True,\n",
    "    },\n",
    "    'attr2': {\n",
    "        'data': np.random.randint(0, 100, n),\n",
    "        'color': True,\n",
    "        'tooltip': True,\n",
    "    },\n",
    "}\n",
    "\n",
    "_color_attrs = [(key, value['data']) for key, value in data.items() if value.get('color')]\n",
    "color_maps = {}\n",
    "log=False\n",
    "for key, value in _color_attrs:\n",
    "    if isinstance(value[0], str):\n",
    "        color_maps[key] = btr.factor_cmap(key, palette(len(list(set(value)))), list(set(value)))\n",
    "    else:\n",
    "        color_maps[key] = (btr.log_cmap if log else btr.linear_cmap)(key, palette(600), low=min(value), high=max(value))\n",
    "\n",
    "embedding_df = pd.DataFrame()\n",
    "for key, value in data.items():\n",
    "    if value.get('umap'):\n",
    "        embedding_df['x'], embedding_df['y'] = value['data'][:,0], value['data'][:,1]\n",
    "    elif value.get('tooltip') or value.get('color'):\n",
    "        embedding_df[key] = value['data']\n",
    "\n",
    "_default_color_attr = list(color_maps.keys())[0]\n",
    "_color_options = list(color_maps.keys())\n",
    "coloringSelect = Select(\n",
    "    title='Color by',\n",
    "    value=_default_color_attr,\n",
    "    options=_color_options\n",
    ")\n",
    "fig = bk.figure(\n",
    "    title='Embedding of FRB 1D Time Series FFT (positive real part) with',\n",
    "    tools=(\n",
    "        CopyTool(),\n",
    "        HoverTool(tooltips = \"<div>\" + \"\".join([f'<div><span style=\"font-size: 15px; font-weight: bold;\">{attr_key}: @{attr_key}</span></div>' for attr_key, value in data.items() if value.get('tooltip')]) + \"</div>\"),\n",
    "        LassoSelectTool(),\n",
    "    )\n",
    ")\n",
    "plotPoints = fig.circle(\n",
    "    x=\"x\",\n",
    "    y=\"y\", \n",
    "    source=embedding_df,\n",
    "    size=7,\n",
    "    line_color='black',\n",
    "    line_width=0.25,\n",
    "    fill_alpha=0.7,\n",
    "    fill_color=color_maps[_default_color_attr]\n",
    ")\n",
    "colorbar = plotPoints.construct_color_bar(padding=1)\n",
    "fig.add_layout(colorbar, 'right')\n",
    "coloringSelect.js_on_change('value', CustomJS(\n",
    "    args=dict(plotPoints=plotPoints, color_maps=color_maps, colorbar=colorbar),\n",
    "    code=\"\"\"\n",
    "    const selectedAttr = cb_obj.value;\n",
    "    const colorMapper = color_maps[selectedAttr];\n",
    "    \n",
    "    plotPoints.glyph.fill_color = colorMapper;\n",
    "    colorbar.color_mapper = colorMapper['transform'];\n",
    "    \"\"\"\n",
    "))\n",
    "\n",
    "\n",
    "fig.grid.visible = False\n",
    "fig.axis.visible = False\n",
    "plot = bkl.gridplot([[coloringSelect], [fig]],toolbar_location='below')\n",
    "bk.output_notebook()\n",
    "bk.show(plot)\n",
    "bk.save(plot, 'test.html')"
   ]
  },
  {
   "cell_type": "code",
   "execution_count": 17,
   "metadata": {},
   "outputs": [
    {
     "data": {
      "text/plain": [
       "{'field': 'attr1',\n",
       " 'transform': Field(field='attr1', transform=CategoricalColorMapper(id='p4211', ...), units=Unspecified)}"
      ]
     },
     "execution_count": 17,
     "metadata": {},
     "output_type": "execute_result"
    }
   ],
   "source": [
    "dict(field=_default_color_attr, transform=color_maps[_default_color_attr])"
   ]
  },
  {
   "cell_type": "code",
   "execution_count": 38,
   "metadata": {},
   "outputs": [
    {
     "ename": "IndexError",
     "evalue": "list index out of range",
     "output_type": "error",
     "traceback": [
      "\u001b[0;31m---------------------------------------------------------------------------\u001b[0m",
      "\u001b[0;31mIndexError\u001b[0m                                Traceback (most recent call last)",
      "Cell \u001b[0;32mIn[38], line 1\u001b[0m\n\u001b[0;32m----> 1\u001b[0m [][\u001b[39m0\u001b[39;49m]\n",
      "\u001b[0;31mIndexError\u001b[0m: list index out of range"
     ]
    }
   ],
   "source": [
    "[][0]"
   ]
  },
  {
   "cell_type": "code",
   "execution_count": null,
   "metadata": {},
   "outputs": [],
   "source": []
  }
 ],
 "metadata": {
  "kernelspec": {
   "display_name": "umap",
   "language": "python",
   "name": "python3"
  },
  "language_info": {
   "codemirror_mode": {
    "name": "ipython",
    "version": 3
   },
   "file_extension": ".py",
   "mimetype": "text/x-python",
   "name": "python",
   "nbconvert_exporter": "python",
   "pygments_lexer": "ipython3",
   "version": "3.9.16"
  },
  "orig_nbformat": 4
 },
 "nbformat": 4,
 "nbformat_minor": 2
}
